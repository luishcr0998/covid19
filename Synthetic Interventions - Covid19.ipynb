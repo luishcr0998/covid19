{
 "cells": [
  {
   "cell_type": "code",
   "execution_count": 54,
   "id": "603cc14d",
   "metadata": {},
   "outputs": [],
   "source": [
    "import pandas as pd\n",
    "import numpy as np\n",
    "import seaborn as sns\n",
    "import matplotlib.pyplot as plt\n",
    "import plotly.express as px"
   ]
  },
  {
   "cell_type": "markdown",
   "id": "6ad554e9",
   "metadata": {},
   "source": [
    "## **Overview**\n"
   ]
  },
  {
   "cell_type": "markdown",
   "id": "a602280e",
   "metadata": {},
   "source": [
    "In this project, I aim to analyze the impact of mobility restrictions on COVID-19 fatalities using the Synthetic Interventions method. The analysis focuses on:\n",
    "\n",
    "1) Comparing different levels of mobility restrictions (Low, Moderate, Severe);\n",
    "2) Estimating counterfactual based on severe restrictions;\n",
    "3) Try to visualize and understand how different intervention levels might have affected mortality rates.\n",
    "\n",
    "The data comes from two main sources:\n",
    "- **Johns Hopkins COVID-19** database for mortality data\n",
    "- **Google Mobility Reports** for restriction levels\n",
    "\n",
    "Using the Synthetic Interventions approach, we can estimate what would have happened if countries with moderate restrictions had implemented more severe mobility measures. This method also represents a powerful way to evaluate policy effectiveness in public health interventions.\n",
    "\n",
    "For the purpose of this project, I'll focus the analysis on **Brazil.**"
   ]
  },
  {
   "cell_type": "markdown",
   "id": "0b091be4",
   "metadata": {},
   "source": [
    "## **Data Processing:**"
   ]
  },
  {
   "cell_type": "markdown",
   "id": "aeeffac8",
   "metadata": {},
   "source": [
    "The data comes from Johns Hopkins (https://github.com/CSSEGISandData/COVID-19), which provides information on cumulative COVID-19 related deaths, and is already preprocessed to show daily values."
   ]
  },
  {
   "cell_type": "markdown",
   "id": "0572e9d1",
   "metadata": {},
   "source": [
    "### **Data Loading:**"
   ]
  },
  {
   "cell_type": "code",
   "execution_count": 55,
   "id": "81795ab6",
   "metadata": {},
   "outputs": [
    {
     "data": {
      "text/html": [
       "<div>\n",
       "<style scoped>\n",
       "    .dataframe tbody tr th:only-of-type {\n",
       "        vertical-align: middle;\n",
       "    }\n",
       "\n",
       "    .dataframe tbody tr th {\n",
       "        vertical-align: top;\n",
       "    }\n",
       "\n",
       "    .dataframe thead th {\n",
       "        text-align: right;\n",
       "    }\n",
       "</style>\n",
       "<table border=\"1\" class=\"dataframe\">\n",
       "  <thead>\n",
       "    <tr style=\"text-align: right;\">\n",
       "      <th></th>\n",
       "      <th>country</th>\n",
       "      <th>date</th>\n",
       "      <th>deaths</th>\n",
       "      <th>daily_deaths</th>\n",
       "    </tr>\n",
       "  </thead>\n",
       "  <tbody>\n",
       "    <tr>\n",
       "      <th>0</th>\n",
       "      <td>Afghanistan</td>\n",
       "      <td>01/23/20</td>\n",
       "      <td>0</td>\n",
       "      <td>0.0</td>\n",
       "    </tr>\n",
       "    <tr>\n",
       "      <th>1</th>\n",
       "      <td>Afghanistan</td>\n",
       "      <td>01/24/20</td>\n",
       "      <td>0</td>\n",
       "      <td>0.0</td>\n",
       "    </tr>\n",
       "    <tr>\n",
       "      <th>2</th>\n",
       "      <td>Afghanistan</td>\n",
       "      <td>01/25/20</td>\n",
       "      <td>0</td>\n",
       "      <td>0.0</td>\n",
       "    </tr>\n",
       "    <tr>\n",
       "      <th>3</th>\n",
       "      <td>Afghanistan</td>\n",
       "      <td>01/26/20</td>\n",
       "      <td>0</td>\n",
       "      <td>0.0</td>\n",
       "    </tr>\n",
       "    <tr>\n",
       "      <th>4</th>\n",
       "      <td>Afghanistan</td>\n",
       "      <td>01/27/20</td>\n",
       "      <td>0</td>\n",
       "      <td>0.0</td>\n",
       "    </tr>\n",
       "    <tr>\n",
       "      <th>...</th>\n",
       "      <td>...</td>\n",
       "      <td>...</td>\n",
       "      <td>...</td>\n",
       "      <td>...</td>\n",
       "    </tr>\n",
       "    <tr>\n",
       "      <th>218281</th>\n",
       "      <td>Zimbabwe</td>\n",
       "      <td>01/08/23</td>\n",
       "      <td>5637</td>\n",
       "      <td>0.0</td>\n",
       "    </tr>\n",
       "    <tr>\n",
       "      <th>218282</th>\n",
       "      <td>Zimbabwe</td>\n",
       "      <td>01/09/23</td>\n",
       "      <td>5637</td>\n",
       "      <td>0.0</td>\n",
       "    </tr>\n",
       "    <tr>\n",
       "      <th>218283</th>\n",
       "      <td>Zimbabwe</td>\n",
       "      <td>01/10/23</td>\n",
       "      <td>5637</td>\n",
       "      <td>0.0</td>\n",
       "    </tr>\n",
       "    <tr>\n",
       "      <th>218284</th>\n",
       "      <td>Zimbabwe</td>\n",
       "      <td>01/11/23</td>\n",
       "      <td>5637</td>\n",
       "      <td>0.0</td>\n",
       "    </tr>\n",
       "    <tr>\n",
       "      <th>218285</th>\n",
       "      <td>Zimbabwe</td>\n",
       "      <td>01/12/23</td>\n",
       "      <td>5637</td>\n",
       "      <td>0.0</td>\n",
       "    </tr>\n",
       "  </tbody>\n",
       "</table>\n",
       "<p>218286 rows × 4 columns</p>\n",
       "</div>"
      ],
      "text/plain": [
       "            country      date  deaths  daily_deaths\n",
       "0       Afghanistan  01/23/20       0           0.0\n",
       "1       Afghanistan  01/24/20       0           0.0\n",
       "2       Afghanistan  01/25/20       0           0.0\n",
       "3       Afghanistan  01/26/20       0           0.0\n",
       "4       Afghanistan  01/27/20       0           0.0\n",
       "...             ...       ...     ...           ...\n",
       "218281     Zimbabwe  01/08/23    5637           0.0\n",
       "218282     Zimbabwe  01/09/23    5637           0.0\n",
       "218283     Zimbabwe  01/10/23    5637           0.0\n",
       "218284     Zimbabwe  01/11/23    5637           0.0\n",
       "218285     Zimbabwe  01/12/23    5637           0.0\n",
       "\n",
       "[218286 rows x 4 columns]"
      ]
     },
     "execution_count": 55,
     "metadata": {},
     "output_type": "execute_result"
    }
   ],
   "source": [
    "covid_df = pd.read_csv(\"./data/data_global_data.csv\")\n",
    "covid_df"
   ]
  },
  {
   "cell_type": "code",
   "execution_count": 56,
   "id": "ef656fb0",
   "metadata": {},
   "outputs": [
    {
     "name": "stdout",
     "output_type": "stream",
     "text": [
      "\n",
      "Missing Values:\n",
      "country         0\n",
      "date            0\n",
      "deaths          0\n",
      "daily_deaths    0\n",
      "dtype: int64\n",
      "\n",
      "Number of Duplicate Entries: 0\n",
      "\n",
      "Number of Unique Countries: 201\n"
     ]
    }
   ],
   "source": [
    "# Convert date column to datetime especificando o formato\n",
    "covid_df['date'] = pd.to_datetime(covid_df['date'], format='%m/%d/%y')\n",
    "\n",
    "# Check if there are missing values\n",
    "print(\"\\nMissing Values:\")\n",
    "print(covid_df.isnull().sum())\n",
    "\n",
    "# Check if there are duplicate entries\n",
    "print(\"\\nNumber of Duplicate Entries:\", covid_df.duplicated().sum())\n",
    "\n",
    "# Check how many countries are in the dataset\n",
    "print(\"\\nNumber of Unique Countries:\", covid_df['country'].nunique())\n"
   ]
  },
  {
   "cell_type": "code",
   "execution_count": 57,
   "id": "c0de2e83",
   "metadata": {},
   "outputs": [
    {
     "data": {
      "text/html": [
       "<div>\n",
       "<style scoped>\n",
       "    .dataframe tbody tr th:only-of-type {\n",
       "        vertical-align: middle;\n",
       "    }\n",
       "\n",
       "    .dataframe tbody tr th {\n",
       "        vertical-align: top;\n",
       "    }\n",
       "\n",
       "    .dataframe thead th {\n",
       "        text-align: right;\n",
       "    }\n",
       "</style>\n",
       "<table border=\"1\" class=\"dataframe\">\n",
       "  <thead>\n",
       "    <tr style=\"text-align: right;\">\n",
       "      <th></th>\n",
       "      <th>country</th>\n",
       "      <th>date</th>\n",
       "      <th>deaths</th>\n",
       "      <th>daily_deaths</th>\n",
       "    </tr>\n",
       "  </thead>\n",
       "  <tbody>\n",
       "    <tr>\n",
       "      <th>26064</th>\n",
       "      <td>Brazil</td>\n",
       "      <td>2020-01-23</td>\n",
       "      <td>0</td>\n",
       "      <td>0.0</td>\n",
       "    </tr>\n",
       "    <tr>\n",
       "      <th>26065</th>\n",
       "      <td>Brazil</td>\n",
       "      <td>2020-01-24</td>\n",
       "      <td>0</td>\n",
       "      <td>0.0</td>\n",
       "    </tr>\n",
       "    <tr>\n",
       "      <th>26066</th>\n",
       "      <td>Brazil</td>\n",
       "      <td>2020-01-25</td>\n",
       "      <td>0</td>\n",
       "      <td>0.0</td>\n",
       "    </tr>\n",
       "    <tr>\n",
       "      <th>26067</th>\n",
       "      <td>Brazil</td>\n",
       "      <td>2020-01-26</td>\n",
       "      <td>0</td>\n",
       "      <td>0.0</td>\n",
       "    </tr>\n",
       "    <tr>\n",
       "      <th>26068</th>\n",
       "      <td>Brazil</td>\n",
       "      <td>2020-01-27</td>\n",
       "      <td>0</td>\n",
       "      <td>0.0</td>\n",
       "    </tr>\n",
       "    <tr>\n",
       "      <th>...</th>\n",
       "      <td>...</td>\n",
       "      <td>...</td>\n",
       "      <td>...</td>\n",
       "      <td>...</td>\n",
       "    </tr>\n",
       "    <tr>\n",
       "      <th>27145</th>\n",
       "      <td>Brazil</td>\n",
       "      <td>2023-01-08</td>\n",
       "      <td>694779</td>\n",
       "      <td>0.0</td>\n",
       "    </tr>\n",
       "    <tr>\n",
       "      <th>27146</th>\n",
       "      <td>Brazil</td>\n",
       "      <td>2023-01-09</td>\n",
       "      <td>694779</td>\n",
       "      <td>0.0</td>\n",
       "    </tr>\n",
       "    <tr>\n",
       "      <th>27147</th>\n",
       "      <td>Brazil</td>\n",
       "      <td>2023-01-10</td>\n",
       "      <td>694985</td>\n",
       "      <td>206.0</td>\n",
       "    </tr>\n",
       "    <tr>\n",
       "      <th>27148</th>\n",
       "      <td>Brazil</td>\n",
       "      <td>2023-01-11</td>\n",
       "      <td>695088</td>\n",
       "      <td>103.0</td>\n",
       "    </tr>\n",
       "    <tr>\n",
       "      <th>27149</th>\n",
       "      <td>Brazil</td>\n",
       "      <td>2023-01-12</td>\n",
       "      <td>695236</td>\n",
       "      <td>148.0</td>\n",
       "    </tr>\n",
       "  </tbody>\n",
       "</table>\n",
       "<p>1086 rows × 4 columns</p>\n",
       "</div>"
      ],
      "text/plain": [
       "      country       date  deaths  daily_deaths\n",
       "26064  Brazil 2020-01-23       0           0.0\n",
       "26065  Brazil 2020-01-24       0           0.0\n",
       "26066  Brazil 2020-01-25       0           0.0\n",
       "26067  Brazil 2020-01-26       0           0.0\n",
       "26068  Brazil 2020-01-27       0           0.0\n",
       "...       ...        ...     ...           ...\n",
       "27145  Brazil 2023-01-08  694779           0.0\n",
       "27146  Brazil 2023-01-09  694779           0.0\n",
       "27147  Brazil 2023-01-10  694985         206.0\n",
       "27148  Brazil 2023-01-11  695088         103.0\n",
       "27149  Brazil 2023-01-12  695236         148.0\n",
       "\n",
       "[1086 rows x 4 columns]"
      ]
     },
     "execution_count": 57,
     "metadata": {},
     "output_type": "execute_result"
    }
   ],
   "source": [
    "covid_df.loc[covid_df['country'] == 'Brazil'] ## Check the indices for which we have Brazil entries"
   ]
  },
  {
   "cell_type": "code",
   "execution_count": 58,
   "id": "1be6b438",
   "metadata": {},
   "outputs": [
    {
     "data": {
      "text/html": [
       "<div>\n",
       "<style scoped>\n",
       "    .dataframe tbody tr th:only-of-type {\n",
       "        vertical-align: middle;\n",
       "    }\n",
       "\n",
       "    .dataframe tbody tr th {\n",
       "        vertical-align: top;\n",
       "    }\n",
       "\n",
       "    .dataframe thead th {\n",
       "        text-align: right;\n",
       "    }\n",
       "</style>\n",
       "<table border=\"1\" class=\"dataframe\">\n",
       "  <thead>\n",
       "    <tr style=\"text-align: right;\">\n",
       "      <th></th>\n",
       "      <th>country</th>\n",
       "      <th>date</th>\n",
       "      <th>deaths</th>\n",
       "      <th>daily_deaths</th>\n",
       "    </tr>\n",
       "  </thead>\n",
       "  <tbody>\n",
       "    <tr>\n",
       "      <th>26064</th>\n",
       "      <td>Brazil</td>\n",
       "      <td>2020-01-23</td>\n",
       "      <td>0</td>\n",
       "      <td>0.0</td>\n",
       "    </tr>\n",
       "    <tr>\n",
       "      <th>26065</th>\n",
       "      <td>Brazil</td>\n",
       "      <td>2020-01-24</td>\n",
       "      <td>0</td>\n",
       "      <td>0.0</td>\n",
       "    </tr>\n",
       "    <tr>\n",
       "      <th>26066</th>\n",
       "      <td>Brazil</td>\n",
       "      <td>2020-01-25</td>\n",
       "      <td>0</td>\n",
       "      <td>0.0</td>\n",
       "    </tr>\n",
       "    <tr>\n",
       "      <th>26067</th>\n",
       "      <td>Brazil</td>\n",
       "      <td>2020-01-26</td>\n",
       "      <td>0</td>\n",
       "      <td>0.0</td>\n",
       "    </tr>\n",
       "    <tr>\n",
       "      <th>26068</th>\n",
       "      <td>Brazil</td>\n",
       "      <td>2020-01-27</td>\n",
       "      <td>0</td>\n",
       "      <td>0.0</td>\n",
       "    </tr>\n",
       "    <tr>\n",
       "      <th>...</th>\n",
       "      <td>...</td>\n",
       "      <td>...</td>\n",
       "      <td>...</td>\n",
       "      <td>...</td>\n",
       "    </tr>\n",
       "    <tr>\n",
       "      <th>27145</th>\n",
       "      <td>Brazil</td>\n",
       "      <td>2023-01-08</td>\n",
       "      <td>694779</td>\n",
       "      <td>0.0</td>\n",
       "    </tr>\n",
       "    <tr>\n",
       "      <th>27146</th>\n",
       "      <td>Brazil</td>\n",
       "      <td>2023-01-09</td>\n",
       "      <td>694779</td>\n",
       "      <td>0.0</td>\n",
       "    </tr>\n",
       "    <tr>\n",
       "      <th>27147</th>\n",
       "      <td>Brazil</td>\n",
       "      <td>2023-01-10</td>\n",
       "      <td>694985</td>\n",
       "      <td>206.0</td>\n",
       "    </tr>\n",
       "    <tr>\n",
       "      <th>27148</th>\n",
       "      <td>Brazil</td>\n",
       "      <td>2023-01-11</td>\n",
       "      <td>695088</td>\n",
       "      <td>103.0</td>\n",
       "    </tr>\n",
       "    <tr>\n",
       "      <th>27149</th>\n",
       "      <td>Brazil</td>\n",
       "      <td>2023-01-12</td>\n",
       "      <td>695236</td>\n",
       "      <td>148.0</td>\n",
       "    </tr>\n",
       "  </tbody>\n",
       "</table>\n",
       "<p>1086 rows × 4 columns</p>\n",
       "</div>"
      ],
      "text/plain": [
       "      country       date  deaths  daily_deaths\n",
       "26064  Brazil 2020-01-23       0           0.0\n",
       "26065  Brazil 2020-01-24       0           0.0\n",
       "26066  Brazil 2020-01-25       0           0.0\n",
       "26067  Brazil 2020-01-26       0           0.0\n",
       "26068  Brazil 2020-01-27       0           0.0\n",
       "...       ...        ...     ...           ...\n",
       "27145  Brazil 2023-01-08  694779           0.0\n",
       "27146  Brazil 2023-01-09  694779           0.0\n",
       "27147  Brazil 2023-01-10  694985         206.0\n",
       "27148  Brazil 2023-01-11  695088         103.0\n",
       "27149  Brazil 2023-01-12  695236         148.0\n",
       "\n",
       "[1086 rows x 4 columns]"
      ]
     },
     "execution_count": 58,
     "metadata": {},
     "output_type": "execute_result"
    }
   ],
   "source": [
    "covid_df.loc[26064:27149]"
   ]
  },
  {
   "cell_type": "markdown",
   "id": "a6c65ccc",
   "metadata": {},
   "source": [
    "###  **Defining Time Steps:**"
   ]
  },
  {
   "cell_type": "markdown",
   "id": "34bb9aab",
   "metadata": {},
   "source": [
    "Most epidemiological models suggest that, at the beginning of an epidemic process when the number of infected is far less than the population size, the dynamics of infection don't depend much on the population size itself. \n",
    "\n",
    "In this sense, we establish the time stamps of the data relative to the point at which 80 cumulative deaths are observed for every country. That is, the timestamp for the first date after which there are 80 cumulative deaths is 0. \n",
    "\n",
    "Then, we define timestamps -20 to -1 as a \"pre-intervention\" period and timestamps 0 to 20 as a \"post-intervention\" period."
   ]
  },
  {
   "cell_type": "code",
   "execution_count": 59,
   "id": "b49365d7",
   "metadata": {},
   "outputs": [
    {
     "data": {
      "text/html": [
       "<div>\n",
       "<style scoped>\n",
       "    .dataframe tbody tr th:only-of-type {\n",
       "        vertical-align: middle;\n",
       "    }\n",
       "\n",
       "    .dataframe tbody tr th {\n",
       "        vertical-align: top;\n",
       "    }\n",
       "\n",
       "    .dataframe thead th {\n",
       "        text-align: right;\n",
       "    }\n",
       "</style>\n",
       "<table border=\"1\" class=\"dataframe\">\n",
       "  <thead>\n",
       "    <tr style=\"text-align: right;\">\n",
       "      <th></th>\n",
       "      <th>country</th>\n",
       "      <th>date</th>\n",
       "      <th>deaths</th>\n",
       "      <th>daily_deaths</th>\n",
       "      <th>post-intervention</th>\n",
       "    </tr>\n",
       "  </thead>\n",
       "  <tbody>\n",
       "    <tr>\n",
       "      <th>0</th>\n",
       "      <td>Afghanistan</td>\n",
       "      <td>2020-01-23</td>\n",
       "      <td>0</td>\n",
       "      <td>0.0</td>\n",
       "      <td>False</td>\n",
       "    </tr>\n",
       "    <tr>\n",
       "      <th>1</th>\n",
       "      <td>Afghanistan</td>\n",
       "      <td>2020-01-24</td>\n",
       "      <td>0</td>\n",
       "      <td>0.0</td>\n",
       "      <td>False</td>\n",
       "    </tr>\n",
       "    <tr>\n",
       "      <th>2</th>\n",
       "      <td>Afghanistan</td>\n",
       "      <td>2020-01-25</td>\n",
       "      <td>0</td>\n",
       "      <td>0.0</td>\n",
       "      <td>False</td>\n",
       "    </tr>\n",
       "    <tr>\n",
       "      <th>3</th>\n",
       "      <td>Afghanistan</td>\n",
       "      <td>2020-01-26</td>\n",
       "      <td>0</td>\n",
       "      <td>0.0</td>\n",
       "      <td>False</td>\n",
       "    </tr>\n",
       "    <tr>\n",
       "      <th>4</th>\n",
       "      <td>Afghanistan</td>\n",
       "      <td>2020-01-27</td>\n",
       "      <td>0</td>\n",
       "      <td>0.0</td>\n",
       "      <td>False</td>\n",
       "    </tr>\n",
       "  </tbody>\n",
       "</table>\n",
       "</div>"
      ],
      "text/plain": [
       "       country       date  deaths  daily_deaths  post-intervention\n",
       "0  Afghanistan 2020-01-23       0           0.0              False\n",
       "1  Afghanistan 2020-01-24       0           0.0              False\n",
       "2  Afghanistan 2020-01-25       0           0.0              False\n",
       "3  Afghanistan 2020-01-26       0           0.0              False\n",
       "4  Afghanistan 2020-01-27       0           0.0              False"
      ]
     },
     "execution_count": 59,
     "metadata": {},
     "output_type": "execute_result"
    }
   ],
   "source": [
    "## Define the number of deaths that will be used to define the pre-intervention period\n",
    "pre_intervention_death_count = 80 \n",
    "\n",
    "## Create a column to identify the post-intervention period\n",
    "covid_df['post-intervention'] = covid_df['deaths'] >= pre_intervention_death_count \n",
    "\n",
    "covid_df.head()"
   ]
  },
  {
   "cell_type": "code",
   "execution_count": 60,
   "id": "94aec8f3",
   "metadata": {},
   "outputs": [
    {
     "data": {
      "text/plain": [
       "country\n",
       "Afghanistan          2020-05-06\n",
       "Albania              2020-07-07\n",
       "Algeria              2020-04-02\n",
       "Andorra              2020-12-18\n",
       "Angola               2020-08-11\n",
       "                        ...    \n",
       "Vietnam              2021-06-29\n",
       "West Bank and Gaza   2020-07-29\n",
       "Yemen                2020-05-31\n",
       "Zambia               2020-07-17\n",
       "Zimbabwe             2020-08-03\n",
       "Name: date, Length: 179, dtype: datetime64[ns]"
      ]
     },
     "execution_count": 60,
     "metadata": {},
     "output_type": "execute_result"
    }
   ],
   "source": [
    "# Get post-intervention date for each country\n",
    "t0_date = covid_df[covid_df['post-intervention']].groupby('country')['date'].min()\n",
    "t0_date"
   ]
  },
  {
   "cell_type": "code",
   "execution_count": 61,
   "id": "7fb44ba1",
   "metadata": {},
   "outputs": [],
   "source": [
    "# Create a column with the t0 date for each country\n",
    "covid_df = pd.merge(covid_df, t0_date.reset_index(), on='country', how='left')\\\n",
    "                .rename(columns={'date_x': 'date', 'date_y': 't0_date'})\n",
    "\n",
    "# Extract the difference between the date of the current observation and the t = 0 date\n",
    "covid_df['t'] = (covid_df['date'] - covid_df['t0_date']).dt.days"
   ]
  },
  {
   "cell_type": "code",
   "execution_count": 62,
   "id": "37a4c361",
   "metadata": {},
   "outputs": [
    {
     "data": {
      "text/html": [
       "<div>\n",
       "<style scoped>\n",
       "    .dataframe tbody tr th:only-of-type {\n",
       "        vertical-align: middle;\n",
       "    }\n",
       "\n",
       "    .dataframe tbody tr th {\n",
       "        vertical-align: top;\n",
       "    }\n",
       "\n",
       "    .dataframe thead th {\n",
       "        text-align: right;\n",
       "    }\n",
       "</style>\n",
       "<table border=\"1\" class=\"dataframe\">\n",
       "  <thead>\n",
       "    <tr style=\"text-align: right;\">\n",
       "      <th></th>\n",
       "      <th>country</th>\n",
       "      <th>date</th>\n",
       "      <th>deaths</th>\n",
       "      <th>daily_deaths</th>\n",
       "      <th>post-intervention</th>\n",
       "      <th>t0_date</th>\n",
       "      <th>t</th>\n",
       "    </tr>\n",
       "  </thead>\n",
       "  <tbody>\n",
       "    <tr>\n",
       "      <th>84</th>\n",
       "      <td>Afghanistan</td>\n",
       "      <td>2020-04-16</td>\n",
       "      <td>29</td>\n",
       "      <td>4.0</td>\n",
       "      <td>False</td>\n",
       "      <td>2020-05-06</td>\n",
       "      <td>-20.0</td>\n",
       "    </tr>\n",
       "    <tr>\n",
       "      <th>85</th>\n",
       "      <td>Afghanistan</td>\n",
       "      <td>2020-04-17</td>\n",
       "      <td>30</td>\n",
       "      <td>1.0</td>\n",
       "      <td>False</td>\n",
       "      <td>2020-05-06</td>\n",
       "      <td>-19.0</td>\n",
       "    </tr>\n",
       "    <tr>\n",
       "      <th>86</th>\n",
       "      <td>Afghanistan</td>\n",
       "      <td>2020-04-18</td>\n",
       "      <td>30</td>\n",
       "      <td>0.0</td>\n",
       "      <td>False</td>\n",
       "      <td>2020-05-06</td>\n",
       "      <td>-18.0</td>\n",
       "    </tr>\n",
       "    <tr>\n",
       "      <th>87</th>\n",
       "      <td>Afghanistan</td>\n",
       "      <td>2020-04-19</td>\n",
       "      <td>30</td>\n",
       "      <td>0.0</td>\n",
       "      <td>False</td>\n",
       "      <td>2020-05-06</td>\n",
       "      <td>-17.0</td>\n",
       "    </tr>\n",
       "    <tr>\n",
       "      <th>88</th>\n",
       "      <td>Afghanistan</td>\n",
       "      <td>2020-04-20</td>\n",
       "      <td>33</td>\n",
       "      <td>3.0</td>\n",
       "      <td>False</td>\n",
       "      <td>2020-05-06</td>\n",
       "      <td>-16.0</td>\n",
       "    </tr>\n",
       "  </tbody>\n",
       "</table>\n",
       "</div>"
      ],
      "text/plain": [
       "        country       date  deaths  daily_deaths  post-intervention  \\\n",
       "84  Afghanistan 2020-04-16      29           4.0              False   \n",
       "85  Afghanistan 2020-04-17      30           1.0              False   \n",
       "86  Afghanistan 2020-04-18      30           0.0              False   \n",
       "87  Afghanistan 2020-04-19      30           0.0              False   \n",
       "88  Afghanistan 2020-04-20      33           3.0              False   \n",
       "\n",
       "      t0_date     t  \n",
       "84 2020-05-06 -20.0  \n",
       "85 2020-05-06 -19.0  \n",
       "86 2020-05-06 -18.0  \n",
       "87 2020-05-06 -17.0  \n",
       "88 2020-05-06 -16.0  "
      ]
     },
     "execution_count": 62,
     "metadata": {},
     "output_type": "execute_result"
    }
   ],
   "source": [
    "# Filter the dates on where t is between -20 and 20\n",
    "covid_df = covid_df[(covid_df['t'] >= -20) & (covid_df['t'] <= 20)]\n",
    "\n",
    "covid_df.head()"
   ]
  },
  {
   "cell_type": "markdown",
   "id": "a97fff96",
   "metadata": {},
   "source": [
    "### **Assigning Mobility Interventions**\n"
   ]
  },
  {
   "cell_type": "markdown",
   "id": "89ce15f7",
   "metadata": {},
   "source": [
    "Here we'll assign mobility interventions for each country by using Google mobility data (https://www.google.com/covid19/mobility/). The Google data is reported relative to pre-2020 mobility, such that a score of -10 means that on that date, the mobility of a country's population is 10% less than pre-2020 levels. \n",
    "\n",
    "Then, we bucket countries as having three possible interventions:\n",
    "\n",
    "| Intervention Type     | Reduction in Mobility (Compared to Jan. 2020 Baseline) |\n",
    "|:----       |    :----:   | \n",
    "| Low    | <10%       |\n",
    "| Moderate   | 10-40%        |\n",
    "| Severe  | >40%        |\n",
    "\n",
    "    \n",
    "We'll measure the mobility reduction in the time period between $t = -20$ to $t = -1$, as we anticipate a delay between mobility reductions and reported case counts. Hence, we assume that it takes about 20 days for a reduction in mobility to impact future case counts."
   ]
  },
  {
   "cell_type": "code",
   "execution_count": 63,
   "id": "1f1f5217",
   "metadata": {},
   "outputs": [],
   "source": [
    "mobility_df = pd.read_csv(\"./data/data_global_mobility_report.csv\").rename(columns={'country_region': 'country'})"
   ]
  },
  {
   "cell_type": "code",
   "execution_count": 64,
   "id": "5be661fe",
   "metadata": {},
   "outputs": [
    {
     "data": {
      "text/html": [
       "<div>\n",
       "<style scoped>\n",
       "    .dataframe tbody tr th:only-of-type {\n",
       "        vertical-align: middle;\n",
       "    }\n",
       "\n",
       "    .dataframe tbody tr th {\n",
       "        vertical-align: top;\n",
       "    }\n",
       "\n",
       "    .dataframe thead th {\n",
       "        text-align: right;\n",
       "    }\n",
       "</style>\n",
       "<table border=\"1\" class=\"dataframe\">\n",
       "  <thead>\n",
       "    <tr style=\"text-align: right;\">\n",
       "      <th></th>\n",
       "      <th>country_region_code</th>\n",
       "      <th>country</th>\n",
       "      <th>sub_region_1</th>\n",
       "      <th>sub_region_2</th>\n",
       "      <th>metro_area</th>\n",
       "      <th>iso_3166_2_code</th>\n",
       "      <th>census_fips_code</th>\n",
       "      <th>place_id</th>\n",
       "      <th>date</th>\n",
       "      <th>retail_and_recreation_percent_change_from_baseline</th>\n",
       "      <th>grocery_and_pharmacy_percent_change_from_baseline</th>\n",
       "      <th>parks_percent_change_from_baseline</th>\n",
       "      <th>transit_stations_percent_change_from_baseline</th>\n",
       "      <th>workplaces_percent_change_from_baseline</th>\n",
       "      <th>residential_percent_change_from_baseline</th>\n",
       "    </tr>\n",
       "  </thead>\n",
       "  <tbody>\n",
       "    <tr>\n",
       "      <th>17436</th>\n",
       "      <td>BR</td>\n",
       "      <td>Brazil</td>\n",
       "      <td>NaN</td>\n",
       "      <td>NaN</td>\n",
       "      <td>NaN</td>\n",
       "      <td>NaN</td>\n",
       "      <td>NaN</td>\n",
       "      <td>ChIJzyjM68dZnAARYz4p8gYVWik</td>\n",
       "      <td>2020-02-15</td>\n",
       "      <td>5.0</td>\n",
       "      <td>4.0</td>\n",
       "      <td>-5.0</td>\n",
       "      <td>8.0</td>\n",
       "      <td>6.0</td>\n",
       "      <td>0.0</td>\n",
       "    </tr>\n",
       "    <tr>\n",
       "      <th>17437</th>\n",
       "      <td>BR</td>\n",
       "      <td>Brazil</td>\n",
       "      <td>NaN</td>\n",
       "      <td>NaN</td>\n",
       "      <td>NaN</td>\n",
       "      <td>NaN</td>\n",
       "      <td>NaN</td>\n",
       "      <td>ChIJzyjM68dZnAARYz4p8gYVWik</td>\n",
       "      <td>2020-02-16</td>\n",
       "      <td>2.0</td>\n",
       "      <td>3.0</td>\n",
       "      <td>-13.0</td>\n",
       "      <td>3.0</td>\n",
       "      <td>0.0</td>\n",
       "      <td>1.0</td>\n",
       "    </tr>\n",
       "    <tr>\n",
       "      <th>17438</th>\n",
       "      <td>BR</td>\n",
       "      <td>Brazil</td>\n",
       "      <td>NaN</td>\n",
       "      <td>NaN</td>\n",
       "      <td>NaN</td>\n",
       "      <td>NaN</td>\n",
       "      <td>NaN</td>\n",
       "      <td>ChIJzyjM68dZnAARYz4p8gYVWik</td>\n",
       "      <td>2020-02-17</td>\n",
       "      <td>-2.0</td>\n",
       "      <td>0.0</td>\n",
       "      <td>-12.0</td>\n",
       "      <td>9.0</td>\n",
       "      <td>19.0</td>\n",
       "      <td>-1.0</td>\n",
       "    </tr>\n",
       "    <tr>\n",
       "      <th>17439</th>\n",
       "      <td>BR</td>\n",
       "      <td>Brazil</td>\n",
       "      <td>NaN</td>\n",
       "      <td>NaN</td>\n",
       "      <td>NaN</td>\n",
       "      <td>NaN</td>\n",
       "      <td>NaN</td>\n",
       "      <td>ChIJzyjM68dZnAARYz4p8gYVWik</td>\n",
       "      <td>2020-02-18</td>\n",
       "      <td>-3.0</td>\n",
       "      <td>-1.0</td>\n",
       "      <td>-11.0</td>\n",
       "      <td>9.0</td>\n",
       "      <td>15.0</td>\n",
       "      <td>-1.0</td>\n",
       "    </tr>\n",
       "    <tr>\n",
       "      <th>17440</th>\n",
       "      <td>BR</td>\n",
       "      <td>Brazil</td>\n",
       "      <td>NaN</td>\n",
       "      <td>NaN</td>\n",
       "      <td>NaN</td>\n",
       "      <td>NaN</td>\n",
       "      <td>NaN</td>\n",
       "      <td>ChIJzyjM68dZnAARYz4p8gYVWik</td>\n",
       "      <td>2020-02-19</td>\n",
       "      <td>-1.0</td>\n",
       "      <td>-2.0</td>\n",
       "      <td>-5.0</td>\n",
       "      <td>8.0</td>\n",
       "      <td>14.0</td>\n",
       "      <td>-1.0</td>\n",
       "    </tr>\n",
       "    <tr>\n",
       "      <th>...</th>\n",
       "      <td>...</td>\n",
       "      <td>...</td>\n",
       "      <td>...</td>\n",
       "      <td>...</td>\n",
       "      <td>...</td>\n",
       "      <td>...</td>\n",
       "      <td>...</td>\n",
       "      <td>...</td>\n",
       "      <td>...</td>\n",
       "      <td>...</td>\n",
       "      <td>...</td>\n",
       "      <td>...</td>\n",
       "      <td>...</td>\n",
       "      <td>...</td>\n",
       "      <td>...</td>\n",
       "    </tr>\n",
       "    <tr>\n",
       "      <th>18405</th>\n",
       "      <td>BR</td>\n",
       "      <td>Brazil</td>\n",
       "      <td>NaN</td>\n",
       "      <td>NaN</td>\n",
       "      <td>NaN</td>\n",
       "      <td>NaN</td>\n",
       "      <td>NaN</td>\n",
       "      <td>ChIJzyjM68dZnAARYz4p8gYVWik</td>\n",
       "      <td>2022-10-11</td>\n",
       "      <td>16.0</td>\n",
       "      <td>62.0</td>\n",
       "      <td>16.0</td>\n",
       "      <td>11.0</td>\n",
       "      <td>33.0</td>\n",
       "      <td>0.0</td>\n",
       "    </tr>\n",
       "    <tr>\n",
       "      <th>18406</th>\n",
       "      <td>BR</td>\n",
       "      <td>Brazil</td>\n",
       "      <td>NaN</td>\n",
       "      <td>NaN</td>\n",
       "      <td>NaN</td>\n",
       "      <td>NaN</td>\n",
       "      <td>NaN</td>\n",
       "      <td>ChIJzyjM68dZnAARYz4p8gYVWik</td>\n",
       "      <td>2022-10-12</td>\n",
       "      <td>0.0</td>\n",
       "      <td>33.0</td>\n",
       "      <td>64.0</td>\n",
       "      <td>-35.0</td>\n",
       "      <td>-52.0</td>\n",
       "      <td>14.0</td>\n",
       "    </tr>\n",
       "    <tr>\n",
       "      <th>18407</th>\n",
       "      <td>BR</td>\n",
       "      <td>Brazil</td>\n",
       "      <td>NaN</td>\n",
       "      <td>NaN</td>\n",
       "      <td>NaN</td>\n",
       "      <td>NaN</td>\n",
       "      <td>NaN</td>\n",
       "      <td>ChIJzyjM68dZnAARYz4p8gYVWik</td>\n",
       "      <td>2022-10-13</td>\n",
       "      <td>4.0</td>\n",
       "      <td>55.0</td>\n",
       "      <td>24.0</td>\n",
       "      <td>8.0</td>\n",
       "      <td>34.0</td>\n",
       "      <td>1.0</td>\n",
       "    </tr>\n",
       "    <tr>\n",
       "      <th>18408</th>\n",
       "      <td>BR</td>\n",
       "      <td>Brazil</td>\n",
       "      <td>NaN</td>\n",
       "      <td>NaN</td>\n",
       "      <td>NaN</td>\n",
       "      <td>NaN</td>\n",
       "      <td>NaN</td>\n",
       "      <td>ChIJzyjM68dZnAARYz4p8gYVWik</td>\n",
       "      <td>2022-10-14</td>\n",
       "      <td>6.0</td>\n",
       "      <td>56.0</td>\n",
       "      <td>17.0</td>\n",
       "      <td>8.0</td>\n",
       "      <td>35.0</td>\n",
       "      <td>2.0</td>\n",
       "    </tr>\n",
       "    <tr>\n",
       "      <th>18409</th>\n",
       "      <td>BR</td>\n",
       "      <td>Brazil</td>\n",
       "      <td>NaN</td>\n",
       "      <td>NaN</td>\n",
       "      <td>NaN</td>\n",
       "      <td>NaN</td>\n",
       "      <td>NaN</td>\n",
       "      <td>ChIJzyjM68dZnAARYz4p8gYVWik</td>\n",
       "      <td>2022-10-15</td>\n",
       "      <td>9.0</td>\n",
       "      <td>54.0</td>\n",
       "      <td>14.0</td>\n",
       "      <td>2.0</td>\n",
       "      <td>26.0</td>\n",
       "      <td>3.0</td>\n",
       "    </tr>\n",
       "  </tbody>\n",
       "</table>\n",
       "<p>974 rows × 15 columns</p>\n",
       "</div>"
      ],
      "text/plain": [
       "      country_region_code country  sub_region_1  sub_region_2 metro_area  \\\n",
       "17436                  BR  Brazil           NaN           NaN        NaN   \n",
       "17437                  BR  Brazil           NaN           NaN        NaN   \n",
       "17438                  BR  Brazil           NaN           NaN        NaN   \n",
       "17439                  BR  Brazil           NaN           NaN        NaN   \n",
       "17440                  BR  Brazil           NaN           NaN        NaN   \n",
       "...                   ...     ...           ...           ...        ...   \n",
       "18405                  BR  Brazil           NaN           NaN        NaN   \n",
       "18406                  BR  Brazil           NaN           NaN        NaN   \n",
       "18407                  BR  Brazil           NaN           NaN        NaN   \n",
       "18408                  BR  Brazil           NaN           NaN        NaN   \n",
       "18409                  BR  Brazil           NaN           NaN        NaN   \n",
       "\n",
       "       iso_3166_2_code  census_fips_code                     place_id  \\\n",
       "17436              NaN               NaN  ChIJzyjM68dZnAARYz4p8gYVWik   \n",
       "17437              NaN               NaN  ChIJzyjM68dZnAARYz4p8gYVWik   \n",
       "17438              NaN               NaN  ChIJzyjM68dZnAARYz4p8gYVWik   \n",
       "17439              NaN               NaN  ChIJzyjM68dZnAARYz4p8gYVWik   \n",
       "17440              NaN               NaN  ChIJzyjM68dZnAARYz4p8gYVWik   \n",
       "...                ...               ...                          ...   \n",
       "18405              NaN               NaN  ChIJzyjM68dZnAARYz4p8gYVWik   \n",
       "18406              NaN               NaN  ChIJzyjM68dZnAARYz4p8gYVWik   \n",
       "18407              NaN               NaN  ChIJzyjM68dZnAARYz4p8gYVWik   \n",
       "18408              NaN               NaN  ChIJzyjM68dZnAARYz4p8gYVWik   \n",
       "18409              NaN               NaN  ChIJzyjM68dZnAARYz4p8gYVWik   \n",
       "\n",
       "             date  retail_and_recreation_percent_change_from_baseline  \\\n",
       "17436  2020-02-15                                                5.0    \n",
       "17437  2020-02-16                                                2.0    \n",
       "17438  2020-02-17                                               -2.0    \n",
       "17439  2020-02-18                                               -3.0    \n",
       "17440  2020-02-19                                               -1.0    \n",
       "...           ...                                                ...    \n",
       "18405  2022-10-11                                               16.0    \n",
       "18406  2022-10-12                                                0.0    \n",
       "18407  2022-10-13                                                4.0    \n",
       "18408  2022-10-14                                                6.0    \n",
       "18409  2022-10-15                                                9.0    \n",
       "\n",
       "       grocery_and_pharmacy_percent_change_from_baseline  \\\n",
       "17436                                                4.0   \n",
       "17437                                                3.0   \n",
       "17438                                                0.0   \n",
       "17439                                               -1.0   \n",
       "17440                                               -2.0   \n",
       "...                                                  ...   \n",
       "18405                                               62.0   \n",
       "18406                                               33.0   \n",
       "18407                                               55.0   \n",
       "18408                                               56.0   \n",
       "18409                                               54.0   \n",
       "\n",
       "       parks_percent_change_from_baseline  \\\n",
       "17436                                -5.0   \n",
       "17437                               -13.0   \n",
       "17438                               -12.0   \n",
       "17439                               -11.0   \n",
       "17440                                -5.0   \n",
       "...                                   ...   \n",
       "18405                                16.0   \n",
       "18406                                64.0   \n",
       "18407                                24.0   \n",
       "18408                                17.0   \n",
       "18409                                14.0   \n",
       "\n",
       "       transit_stations_percent_change_from_baseline  \\\n",
       "17436                                            8.0   \n",
       "17437                                            3.0   \n",
       "17438                                            9.0   \n",
       "17439                                            9.0   \n",
       "17440                                            8.0   \n",
       "...                                              ...   \n",
       "18405                                           11.0   \n",
       "18406                                          -35.0   \n",
       "18407                                            8.0   \n",
       "18408                                            8.0   \n",
       "18409                                            2.0   \n",
       "\n",
       "       workplaces_percent_change_from_baseline  \\\n",
       "17436                                      6.0   \n",
       "17437                                      0.0   \n",
       "17438                                     19.0   \n",
       "17439                                     15.0   \n",
       "17440                                     14.0   \n",
       "...                                        ...   \n",
       "18405                                     33.0   \n",
       "18406                                    -52.0   \n",
       "18407                                     34.0   \n",
       "18408                                     35.0   \n",
       "18409                                     26.0   \n",
       "\n",
       "       residential_percent_change_from_baseline  \n",
       "17436                                       0.0  \n",
       "17437                                       1.0  \n",
       "17438                                      -1.0  \n",
       "17439                                      -1.0  \n",
       "17440                                      -1.0  \n",
       "...                                         ...  \n",
       "18405                                       0.0  \n",
       "18406                                      14.0  \n",
       "18407                                       1.0  \n",
       "18408                                       2.0  \n",
       "18409                                       3.0  \n",
       "\n",
       "[974 rows x 15 columns]"
      ]
     },
     "execution_count": 64,
     "metadata": {},
     "output_type": "execute_result"
    }
   ],
   "source": [
    "mobility_df[mobility_df['country'] == 'Brazil'] ## Find the indices for Brazil"
   ]
  },
  {
   "cell_type": "markdown",
   "id": "c6837ee4",
   "metadata": {},
   "source": [
    "Here we focus on data from retail and recreation, since one of our main concerns here is how shutting down the economy affects COVID-19 fatalities."
   ]
  },
  {
   "cell_type": "code",
   "execution_count": 65,
   "id": "30ade698",
   "metadata": {},
   "outputs": [
    {
     "data": {
      "text/html": [
       "<div>\n",
       "<style scoped>\n",
       "    .dataframe tbody tr th:only-of-type {\n",
       "        vertical-align: middle;\n",
       "    }\n",
       "\n",
       "    .dataframe tbody tr th {\n",
       "        vertical-align: top;\n",
       "    }\n",
       "\n",
       "    .dataframe thead th {\n",
       "        text-align: right;\n",
       "    }\n",
       "</style>\n",
       "<table border=\"1\" class=\"dataframe\">\n",
       "  <thead>\n",
       "    <tr style=\"text-align: right;\">\n",
       "      <th></th>\n",
       "      <th>country</th>\n",
       "      <th>date</th>\n",
       "      <th>retail_and_recreation_percent_change_from_baseline</th>\n",
       "    </tr>\n",
       "  </thead>\n",
       "  <tbody>\n",
       "    <tr>\n",
       "      <th>17436</th>\n",
       "      <td>Brazil</td>\n",
       "      <td>2020-02-15</td>\n",
       "      <td>5.0</td>\n",
       "    </tr>\n",
       "    <tr>\n",
       "      <th>17437</th>\n",
       "      <td>Brazil</td>\n",
       "      <td>2020-02-16</td>\n",
       "      <td>2.0</td>\n",
       "    </tr>\n",
       "    <tr>\n",
       "      <th>17438</th>\n",
       "      <td>Brazil</td>\n",
       "      <td>2020-02-17</td>\n",
       "      <td>-2.0</td>\n",
       "    </tr>\n",
       "    <tr>\n",
       "      <th>17439</th>\n",
       "      <td>Brazil</td>\n",
       "      <td>2020-02-18</td>\n",
       "      <td>-3.0</td>\n",
       "    </tr>\n",
       "    <tr>\n",
       "      <th>17440</th>\n",
       "      <td>Brazil</td>\n",
       "      <td>2020-02-19</td>\n",
       "      <td>-1.0</td>\n",
       "    </tr>\n",
       "    <tr>\n",
       "      <th>...</th>\n",
       "      <td>...</td>\n",
       "      <td>...</td>\n",
       "      <td>...</td>\n",
       "    </tr>\n",
       "    <tr>\n",
       "      <th>18405</th>\n",
       "      <td>Brazil</td>\n",
       "      <td>2022-10-11</td>\n",
       "      <td>16.0</td>\n",
       "    </tr>\n",
       "    <tr>\n",
       "      <th>18406</th>\n",
       "      <td>Brazil</td>\n",
       "      <td>2022-10-12</td>\n",
       "      <td>0.0</td>\n",
       "    </tr>\n",
       "    <tr>\n",
       "      <th>18407</th>\n",
       "      <td>Brazil</td>\n",
       "      <td>2022-10-13</td>\n",
       "      <td>4.0</td>\n",
       "    </tr>\n",
       "    <tr>\n",
       "      <th>18408</th>\n",
       "      <td>Brazil</td>\n",
       "      <td>2022-10-14</td>\n",
       "      <td>6.0</td>\n",
       "    </tr>\n",
       "    <tr>\n",
       "      <th>18409</th>\n",
       "      <td>Brazil</td>\n",
       "      <td>2022-10-15</td>\n",
       "      <td>9.0</td>\n",
       "    </tr>\n",
       "  </tbody>\n",
       "</table>\n",
       "<p>974 rows × 3 columns</p>\n",
       "</div>"
      ],
      "text/plain": [
       "      country       date  retail_and_recreation_percent_change_from_baseline\n",
       "17436  Brazil 2020-02-15                                                5.0 \n",
       "17437  Brazil 2020-02-16                                                2.0 \n",
       "17438  Brazil 2020-02-17                                               -2.0 \n",
       "17439  Brazil 2020-02-18                                               -3.0 \n",
       "17440  Brazil 2020-02-19                                               -1.0 \n",
       "...       ...        ...                                                ... \n",
       "18405  Brazil 2022-10-11                                               16.0 \n",
       "18406  Brazil 2022-10-12                                                0.0 \n",
       "18407  Brazil 2022-10-13                                                4.0 \n",
       "18408  Brazil 2022-10-14                                                6.0 \n",
       "18409  Brazil 2022-10-15                                                9.0 \n",
       "\n",
       "[974 rows x 3 columns]"
      ]
     },
     "execution_count": 65,
     "metadata": {},
     "output_type": "execute_result"
    }
   ],
   "source": [
    "mobility_df = pd.read_csv(\"./data/data_global_mobility_report.csv\").rename(columns={'country_region': 'country'})\n",
    "# restrict only to country wide data\n",
    "mobility_df = mobility_df[mobility_df['sub_region_1'].isnull() & \\\n",
    "                          mobility_df['sub_region_2'].isnull() & \\\n",
    "                          mobility_df['metro_area'].isnull()]\n",
    "\n",
    "mobility_df['date'] = pd.to_datetime(mobility_df['date']) ## Convert the dates into datetime objects\n",
    "mobility_df[mobility_df['country'] == 'Brazil'][['country', 'date', 'retail_and_recreation_percent_change_from_baseline']] ## looking at retail and recreation percent change for Brazil"
   ]
  },
  {
   "cell_type": "code",
   "execution_count": 66,
   "id": "bb697e42",
   "metadata": {},
   "outputs": [
    {
     "data": {
      "text/html": [
       "<div>\n",
       "<style scoped>\n",
       "    .dataframe tbody tr th:only-of-type {\n",
       "        vertical-align: middle;\n",
       "    }\n",
       "\n",
       "    .dataframe tbody tr th {\n",
       "        vertical-align: top;\n",
       "    }\n",
       "\n",
       "    .dataframe thead th {\n",
       "        text-align: right;\n",
       "    }\n",
       "</style>\n",
       "<table border=\"1\" class=\"dataframe\">\n",
       "  <thead>\n",
       "    <tr style=\"text-align: right;\">\n",
       "      <th></th>\n",
       "      <th>country</th>\n",
       "      <th>date</th>\n",
       "      <th>t</th>\n",
       "      <th>retail_and_recreation_percent_change_from_baseline</th>\n",
       "    </tr>\n",
       "  </thead>\n",
       "  <tbody>\n",
       "    <tr>\n",
       "      <th>0</th>\n",
       "      <td>Afghanistan</td>\n",
       "      <td>2020-04-16</td>\n",
       "      <td>-20.0</td>\n",
       "      <td>-46.0</td>\n",
       "    </tr>\n",
       "    <tr>\n",
       "      <th>1</th>\n",
       "      <td>Afghanistan</td>\n",
       "      <td>2020-04-17</td>\n",
       "      <td>-19.0</td>\n",
       "      <td>-41.0</td>\n",
       "    </tr>\n",
       "    <tr>\n",
       "      <th>2</th>\n",
       "      <td>Afghanistan</td>\n",
       "      <td>2020-04-18</td>\n",
       "      <td>-18.0</td>\n",
       "      <td>-43.0</td>\n",
       "    </tr>\n",
       "    <tr>\n",
       "      <th>3</th>\n",
       "      <td>Afghanistan</td>\n",
       "      <td>2020-04-19</td>\n",
       "      <td>-17.0</td>\n",
       "      <td>-43.0</td>\n",
       "    </tr>\n",
       "    <tr>\n",
       "      <th>4</th>\n",
       "      <td>Afghanistan</td>\n",
       "      <td>2020-04-20</td>\n",
       "      <td>-16.0</td>\n",
       "      <td>-42.0</td>\n",
       "    </tr>\n",
       "  </tbody>\n",
       "</table>\n",
       "</div>"
      ],
      "text/plain": [
       "       country       date     t  \\\n",
       "0  Afghanistan 2020-04-16 -20.0   \n",
       "1  Afghanistan 2020-04-17 -19.0   \n",
       "2  Afghanistan 2020-04-18 -18.0   \n",
       "3  Afghanistan 2020-04-19 -17.0   \n",
       "4  Afghanistan 2020-04-20 -16.0   \n",
       "\n",
       "   retail_and_recreation_percent_change_from_baseline  \n",
       "0                                              -46.0   \n",
       "1                                              -41.0   \n",
       "2                                              -43.0   \n",
       "3                                              -43.0   \n",
       "4                                              -42.0   "
      ]
     },
     "execution_count": 66,
     "metadata": {},
     "output_type": "execute_result"
    }
   ],
   "source": [
    "# get mobility scores specifically on the dates that are reported in the covid_df when t is between -20 and -1\n",
    "mobility_df = pd.merge(mobility_df, covid_df[covid_df['t'] < 0], on=['country', 'date'], how='right')\n",
    "\n",
    "# now the retail scores are only on the dates we care about for each country\n",
    "mobility_df[['country', 'date', 't', 'retail_and_recreation_percent_change_from_baseline']].head()"
   ]
  },
  {
   "cell_type": "code",
   "execution_count": 67,
   "id": "6dd57e2a",
   "metadata": {},
   "outputs": [],
   "source": [
    "# now we group countries based on their scores\n",
    "country_mobility_scores = \\\n",
    "        mobility_df.groupby('country')['retail_and_recreation_percent_change_from_baseline'].mean()\n",
    "\n",
    "low_countries = []\n",
    "moderate_countries = []\n",
    "severe_countries = []\n",
    "\n",
    "for country, score in country_mobility_scores.items():\n",
    "    if(not pd.isnull(score)):\n",
    "        if(score > -10):\n",
    "            low_countries.append(country)\n",
    "        elif(score < -40):\n",
    "            severe_countries.append(country)\n",
    "        else:\n",
    "            moderate_countries.append(country)"
   ]
  },
  {
   "cell_type": "code",
   "execution_count": 68,
   "id": "c99f040e",
   "metadata": {},
   "outputs": [
    {
     "data": {
      "text/plain": [
       "(22, 50, 50)"
      ]
     },
     "execution_count": 68,
     "metadata": {},
     "output_type": "execute_result"
    }
   ],
   "source": [
    "# Check the number of countries in each group\n",
    "len(low_countries), len(moderate_countries), len(severe_countries)"
   ]
  },
  {
   "cell_type": "code",
   "execution_count": 69,
   "id": "ebe24a85",
   "metadata": {},
   "outputs": [
    {
     "data": {
      "text/plain": [
       "-26.9"
      ]
     },
     "execution_count": 69,
     "metadata": {},
     "output_type": "execute_result"
    }
   ],
   "source": [
    "# Checking Brazil's mobility score\n",
    "brazil_score = country_mobility_scores.get('Brazil', None)\n",
    "brazil_score"
   ]
  },
  {
   "cell_type": "markdown",
   "id": "ca4c437f",
   "metadata": {},
   "source": [
    "## **Exploratory Data Analysis:**"
   ]
  },
  {
   "cell_type": "markdown",
   "id": "bf4930a5",
   "metadata": {},
   "source": [
    "### **Descriptive Analysis:**"
   ]
  },
  {
   "cell_type": "markdown",
   "id": "6d944473",
   "metadata": {},
   "source": [
    "Now that we have defined the categories, we can conduct a descriptive analysis by group:"
   ]
  },
  {
   "cell_type": "code",
   "execution_count": 70,
   "id": "f8373ab9",
   "metadata": {},
   "outputs": [],
   "source": [
    "# Creating dataframes for each mobility intervention category\n",
    "df = pd.read_csv(\"./data/data_global_data.csv\")\n",
    "df['date'] = pd.to_datetime(df['date'], format='%m/%d/%y')\n",
    "low_df = df[df['country'].isin(low_countries)]\n",
    "moderate_df = df[df['country'].isin(moderate_countries)]\n",
    "severe_df = df[df['country'].isin(severe_countries)]  "
   ]
  },
  {
   "cell_type": "code",
   "execution_count": 71,
   "id": "4b9a73c2",
   "metadata": {},
   "outputs": [
    {
     "data": {
      "text/html": [
       "<div>\n",
       "<style scoped>\n",
       "    .dataframe tbody tr th:only-of-type {\n",
       "        vertical-align: middle;\n",
       "    }\n",
       "\n",
       "    .dataframe tbody tr th {\n",
       "        vertical-align: top;\n",
       "    }\n",
       "\n",
       "    .dataframe thead th {\n",
       "        text-align: right;\n",
       "    }\n",
       "</style>\n",
       "<table border=\"1\" class=\"dataframe\">\n",
       "  <thead>\n",
       "    <tr style=\"text-align: right;\">\n",
       "      <th></th>\n",
       "      <th>country</th>\n",
       "      <th>date</th>\n",
       "      <th>deaths</th>\n",
       "      <th>daily_deaths</th>\n",
       "    </tr>\n",
       "  </thead>\n",
       "  <tbody>\n",
       "    <tr>\n",
       "      <th>6516</th>\n",
       "      <td>Antigua and Barbuda</td>\n",
       "      <td>2020-01-23</td>\n",
       "      <td>0</td>\n",
       "      <td>0.0</td>\n",
       "    </tr>\n",
       "    <tr>\n",
       "      <th>6517</th>\n",
       "      <td>Antigua and Barbuda</td>\n",
       "      <td>2020-01-24</td>\n",
       "      <td>0</td>\n",
       "      <td>0.0</td>\n",
       "    </tr>\n",
       "    <tr>\n",
       "      <th>6518</th>\n",
       "      <td>Antigua and Barbuda</td>\n",
       "      <td>2020-01-25</td>\n",
       "      <td>0</td>\n",
       "      <td>0.0</td>\n",
       "    </tr>\n",
       "    <tr>\n",
       "      <th>6519</th>\n",
       "      <td>Antigua and Barbuda</td>\n",
       "      <td>2020-01-26</td>\n",
       "      <td>0</td>\n",
       "      <td>0.0</td>\n",
       "    </tr>\n",
       "    <tr>\n",
       "      <th>6520</th>\n",
       "      <td>Antigua and Barbuda</td>\n",
       "      <td>2020-01-27</td>\n",
       "      <td>0</td>\n",
       "      <td>0.0</td>\n",
       "    </tr>\n",
       "    <tr>\n",
       "      <th>...</th>\n",
       "      <td>...</td>\n",
       "      <td>...</td>\n",
       "      <td>...</td>\n",
       "      <td>...</td>\n",
       "    </tr>\n",
       "    <tr>\n",
       "      <th>217195</th>\n",
       "      <td>Zambia</td>\n",
       "      <td>2023-01-08</td>\n",
       "      <td>4028</td>\n",
       "      <td>0.0</td>\n",
       "    </tr>\n",
       "    <tr>\n",
       "      <th>217196</th>\n",
       "      <td>Zambia</td>\n",
       "      <td>2023-01-09</td>\n",
       "      <td>4030</td>\n",
       "      <td>2.0</td>\n",
       "    </tr>\n",
       "    <tr>\n",
       "      <th>217197</th>\n",
       "      <td>Zambia</td>\n",
       "      <td>2023-01-10</td>\n",
       "      <td>4030</td>\n",
       "      <td>0.0</td>\n",
       "    </tr>\n",
       "    <tr>\n",
       "      <th>217198</th>\n",
       "      <td>Zambia</td>\n",
       "      <td>2023-01-11</td>\n",
       "      <td>4031</td>\n",
       "      <td>1.0</td>\n",
       "    </tr>\n",
       "    <tr>\n",
       "      <th>217199</th>\n",
       "      <td>Zambia</td>\n",
       "      <td>2023-01-12</td>\n",
       "      <td>4034</td>\n",
       "      <td>3.0</td>\n",
       "    </tr>\n",
       "  </tbody>\n",
       "</table>\n",
       "<p>23892 rows × 4 columns</p>\n",
       "</div>"
      ],
      "text/plain": [
       "                    country       date  deaths  daily_deaths\n",
       "6516    Antigua and Barbuda 2020-01-23       0           0.0\n",
       "6517    Antigua and Barbuda 2020-01-24       0           0.0\n",
       "6518    Antigua and Barbuda 2020-01-25       0           0.0\n",
       "6519    Antigua and Barbuda 2020-01-26       0           0.0\n",
       "6520    Antigua and Barbuda 2020-01-27       0           0.0\n",
       "...                     ...        ...     ...           ...\n",
       "217195               Zambia 2023-01-08    4028           0.0\n",
       "217196               Zambia 2023-01-09    4030           2.0\n",
       "217197               Zambia 2023-01-10    4030           0.0\n",
       "217198               Zambia 2023-01-11    4031           1.0\n",
       "217199               Zambia 2023-01-12    4034           3.0\n",
       "\n",
       "[23892 rows x 4 columns]"
      ]
     },
     "execution_count": 71,
     "metadata": {},
     "output_type": "execute_result"
    }
   ],
   "source": [
    "low_df"
   ]
  },
  {
   "cell_type": "code",
   "execution_count": 72,
   "id": "bad8dc50",
   "metadata": {},
   "outputs": [
    {
     "data": {
      "text/html": [
       "<div>\n",
       "<style scoped>\n",
       "    .dataframe tbody tr th:only-of-type {\n",
       "        vertical-align: middle;\n",
       "    }\n",
       "\n",
       "    .dataframe tbody tr th {\n",
       "        vertical-align: top;\n",
       "    }\n",
       "\n",
       "    .dataframe thead th {\n",
       "        text-align: right;\n",
       "    }\n",
       "</style>\n",
       "<table border=\"1\" class=\"dataframe\">\n",
       "  <thead>\n",
       "    <tr style=\"text-align: right;\">\n",
       "      <th></th>\n",
       "      <th>deaths</th>\n",
       "      <th>daily_deaths</th>\n",
       "    </tr>\n",
       "  </thead>\n",
       "  <tbody>\n",
       "    <tr>\n",
       "      <th>count</th>\n",
       "      <td>23892.000000</td>\n",
       "      <td>23892.000000</td>\n",
       "    </tr>\n",
       "    <tr>\n",
       "      <th>mean</th>\n",
       "      <td>20888.985937</td>\n",
       "      <td>33.704085</td>\n",
       "    </tr>\n",
       "    <tr>\n",
       "      <th>std</th>\n",
       "      <td>46672.570734</td>\n",
       "      <td>116.056283</td>\n",
       "    </tr>\n",
       "    <tr>\n",
       "      <th>min</th>\n",
       "      <td>0.000000</td>\n",
       "      <td>0.000000</td>\n",
       "    </tr>\n",
       "    <tr>\n",
       "      <th>25%</th>\n",
       "      <td>52.000000</td>\n",
       "      <td>0.000000</td>\n",
       "    </tr>\n",
       "    <tr>\n",
       "      <th>50%</th>\n",
       "      <td>651.000000</td>\n",
       "      <td>0.000000</td>\n",
       "    </tr>\n",
       "    <tr>\n",
       "      <th>75%</th>\n",
       "      <td>7651.000000</td>\n",
       "      <td>6.000000</td>\n",
       "    </tr>\n",
       "    <tr>\n",
       "      <th>max</th>\n",
       "      <td>215636.000000</td>\n",
       "      <td>2291.000000</td>\n",
       "    </tr>\n",
       "  </tbody>\n",
       "</table>\n",
       "</div>"
      ],
      "text/plain": [
       "              deaths  daily_deaths\n",
       "count   23892.000000  23892.000000\n",
       "mean    20888.985937     33.704085\n",
       "std     46672.570734    116.056283\n",
       "min         0.000000      0.000000\n",
       "25%        52.000000      0.000000\n",
       "50%       651.000000      0.000000\n",
       "75%      7651.000000      6.000000\n",
       "max    215636.000000   2291.000000"
      ]
     },
     "execution_count": 72,
     "metadata": {},
     "output_type": "execute_result"
    }
   ],
   "source": [
    "low_df[['deaths', 'daily_deaths']].describe()"
   ]
  },
  {
   "cell_type": "code",
   "execution_count": 73,
   "id": "7a59a28c",
   "metadata": {},
   "outputs": [
    {
     "data": {
      "text/html": [
       "<div>\n",
       "<style scoped>\n",
       "    .dataframe tbody tr th:only-of-type {\n",
       "        vertical-align: middle;\n",
       "    }\n",
       "\n",
       "    .dataframe tbody tr th {\n",
       "        vertical-align: top;\n",
       "    }\n",
       "\n",
       "    .dataframe thead th {\n",
       "        text-align: right;\n",
       "    }\n",
       "</style>\n",
       "<table border=\"1\" class=\"dataframe\">\n",
       "  <thead>\n",
       "    <tr style=\"text-align: right;\">\n",
       "      <th></th>\n",
       "      <th>deaths</th>\n",
       "      <th>daily_deaths</th>\n",
       "    </tr>\n",
       "  </thead>\n",
       "  <tbody>\n",
       "    <tr>\n",
       "      <th>count</th>\n",
       "      <td>54300.00000</td>\n",
       "      <td>54300.000000</td>\n",
       "    </tr>\n",
       "    <tr>\n",
       "      <th>mean</th>\n",
       "      <td>24462.70744</td>\n",
       "      <td>41.239484</td>\n",
       "    </tr>\n",
       "    <tr>\n",
       "      <th>std</th>\n",
       "      <td>83828.86868</td>\n",
       "      <td>176.434800</td>\n",
       "    </tr>\n",
       "    <tr>\n",
       "      <th>min</th>\n",
       "      <td>0.00000</td>\n",
       "      <td>0.000000</td>\n",
       "    </tr>\n",
       "    <tr>\n",
       "      <th>25%</th>\n",
       "      <td>162.00000</td>\n",
       "      <td>0.000000</td>\n",
       "    </tr>\n",
       "    <tr>\n",
       "      <th>50%</th>\n",
       "      <td>1584.00000</td>\n",
       "      <td>1.000000</td>\n",
       "    </tr>\n",
       "    <tr>\n",
       "      <th>75%</th>\n",
       "      <td>8942.00000</td>\n",
       "      <td>9.000000</td>\n",
       "    </tr>\n",
       "    <tr>\n",
       "      <th>max</th>\n",
       "      <td>695236.00000</td>\n",
       "      <td>4272.000000</td>\n",
       "    </tr>\n",
       "  </tbody>\n",
       "</table>\n",
       "</div>"
      ],
      "text/plain": [
       "             deaths  daily_deaths\n",
       "count   54300.00000  54300.000000\n",
       "mean    24462.70744     41.239484\n",
       "std     83828.86868    176.434800\n",
       "min         0.00000      0.000000\n",
       "25%       162.00000      0.000000\n",
       "50%      1584.00000      1.000000\n",
       "75%      8942.00000      9.000000\n",
       "max    695236.00000   4272.000000"
      ]
     },
     "execution_count": 73,
     "metadata": {},
     "output_type": "execute_result"
    }
   ],
   "source": [
    "moderate_df[['deaths', 'daily_deaths']].describe()\n"
   ]
  },
  {
   "cell_type": "code",
   "execution_count": 74,
   "id": "fbdfed4f",
   "metadata": {},
   "outputs": [
    {
     "data": {
      "text/html": [
       "<div>\n",
       "<style scoped>\n",
       "    .dataframe tbody tr th:only-of-type {\n",
       "        vertical-align: middle;\n",
       "    }\n",
       "\n",
       "    .dataframe tbody tr th {\n",
       "        vertical-align: top;\n",
       "    }\n",
       "\n",
       "    .dataframe thead th {\n",
       "        text-align: right;\n",
       "    }\n",
       "</style>\n",
       "<table border=\"1\" class=\"dataframe\">\n",
       "  <thead>\n",
       "    <tr style=\"text-align: right;\">\n",
       "      <th></th>\n",
       "      <th>deaths</th>\n",
       "      <th>daily_deaths</th>\n",
       "    </tr>\n",
       "  </thead>\n",
       "  <tbody>\n",
       "    <tr>\n",
       "      <th>count</th>\n",
       "      <td>54300.000000</td>\n",
       "      <td>54300.000000</td>\n",
       "    </tr>\n",
       "    <tr>\n",
       "      <th>mean</th>\n",
       "      <td>25131.893941</td>\n",
       "      <td>41.114715</td>\n",
       "    </tr>\n",
       "    <tr>\n",
       "      <th>std</th>\n",
       "      <td>60567.585969</td>\n",
       "      <td>169.729104</td>\n",
       "    </tr>\n",
       "    <tr>\n",
       "      <th>min</th>\n",
       "      <td>0.000000</td>\n",
       "      <td>0.000000</td>\n",
       "    </tr>\n",
       "    <tr>\n",
       "      <th>25%</th>\n",
       "      <td>1230.000000</td>\n",
       "      <td>0.000000</td>\n",
       "    </tr>\n",
       "    <tr>\n",
       "      <th>50%</th>\n",
       "      <td>6937.000000</td>\n",
       "      <td>5.000000</td>\n",
       "    </tr>\n",
       "    <tr>\n",
       "      <th>75%</th>\n",
       "      <td>21448.750000</td>\n",
       "      <td>27.000000</td>\n",
       "    </tr>\n",
       "    <tr>\n",
       "      <th>max</th>\n",
       "      <td>530725.000000</td>\n",
       "      <td>11447.000000</td>\n",
       "    </tr>\n",
       "  </tbody>\n",
       "</table>\n",
       "</div>"
      ],
      "text/plain": [
       "              deaths  daily_deaths\n",
       "count   54300.000000  54300.000000\n",
       "mean    25131.893941     41.114715\n",
       "std     60567.585969    169.729104\n",
       "min         0.000000      0.000000\n",
       "25%      1230.000000      0.000000\n",
       "50%      6937.000000      5.000000\n",
       "75%     21448.750000     27.000000\n",
       "max    530725.000000  11447.000000"
      ]
     },
     "execution_count": 74,
     "metadata": {},
     "output_type": "execute_result"
    }
   ],
   "source": [
    "severe_df[['deaths', 'daily_deaths']].describe()"
   ]
  },
  {
   "cell_type": "markdown",
   "id": "d4a2312e",
   "metadata": {},
   "source": [
    "Observing how the distribution of deaths across countries looks like:"
   ]
  },
  {
   "cell_type": "code",
   "execution_count": 75,
   "id": "11d0b1af",
   "metadata": {},
   "outputs": [
    {
     "data": {
      "image/png": "[encoded data removed]",
      "text/plain": [
       "<Figure size 600x1300 with 1 Axes>"
      ]
     },
     "metadata": {},
     "output_type": "display_data"
    }
   ],
   "source": [
    "# Total deaths by country\n",
    "country_deaths = df.groupby('country')['deaths'].max().reset_index()\n",
    "country_deaths = country_deaths.sort_values(by='deaths', ascending=False)\n",
    "\n",
    "plt.figure(figsize=(6, 13))\n",
    "sns.barplot(data=country_deaths.head(10), x='deaths', y='country',\n",
    "           palette='RdBu')  \n",
    "plt.title('Top 10 Countries by Total Deaths')\n",
    "plt.xlabel('Total Deaths') \n",
    "plt.ylabel('Country')\n",
    "plt.show()"
   ]
  },
  {
   "cell_type": "code",
   "execution_count": 76,
   "id": "71bafa8d",
   "metadata": {},
   "outputs": [
    {
     "data": {
      "image/png": "[encoded data removed]",
      "text/plain": [
       "<Figure size 800x400 with 1 Axes>"
      ]
     },
     "metadata": {},
     "output_type": "display_data"
    }
   ],
   "source": [
    "# Total deaths by low restriction countries\n",
    "low_deaths = low_df.groupby('country')['deaths'].max().reset_index()\n",
    "low_deaths = low_deaths.sort_values(by='deaths', ascending=False)\n",
    "plt.figure(figsize=(8, 4))\n",
    "sns.barplot(data=low_deaths.head(5), x='deaths', y='country',\n",
    "           palette='RdBu')\n",
    "plt.title('Top 5 Low Restriction Countries by Total Deaths')\n",
    "plt.xlabel('Total Deaths')\n",
    "plt.ylabel('Country')\n",
    "plt.show()"
   ]
  },
  {
   "cell_type": "code",
   "execution_count": 77,
   "id": "6d7f511d",
   "metadata": {},
   "outputs": [
    {
     "data": {
      "image/png": "[encoded data removed]",
      "text/plain": [
       "<Figure size 800x400 with 1 Axes>"
      ]
     },
     "metadata": {},
     "output_type": "display_data"
    }
   ],
   "source": [
    "# Total deaths by moderate restriction countries\n",
    "moderate_deaths = moderate_df.groupby('country')['deaths'].max().reset_index()\n",
    "moderate_deaths = moderate_deaths.sort_values(by='deaths', ascending=False)\n",
    "plt.figure(figsize=(8, 4))\n",
    "sns.barplot(data=moderate_deaths.head(5), x='deaths', y='country',\n",
    "           palette='RdBu')\n",
    "plt.title('Top 5 Moderate Restriction Countries by Total Deaths')\n",
    "plt.xlabel('Total Deaths')\n",
    "plt.ylabel('Country')\n",
    "plt.show()"
   ]
  },
  {
   "cell_type": "code",
   "execution_count": 78,
   "id": "11e268a7",
   "metadata": {},
   "outputs": [
    {
     "data": {
      "image/png": "[encoded data removed]",
      "text/plain": [
       "<Figure size 800x400 with 1 Axes>"
      ]
     },
     "metadata": {},
     "output_type": "display_data"
    }
   ],
   "source": [
    "# Total deaths by severe restriction countries\n",
    "severe_deaths = severe_df.groupby('country')['deaths'].max().reset_index()\n",
    "severe_deaths = severe_deaths.sort_values(by='deaths', ascending=False)\n",
    "plt.figure(figsize=(8, 4))\n",
    "sns.barplot(data=severe_deaths.head(5), x='deaths', y='country',\n",
    "           palette='RdBu') \n",
    "plt.title('Top 5 Severe Restriction Countries by Total Deaths')\n",
    "plt.xlabel('Total Deaths')\n",
    "plt.ylabel('Country')\n",
    "plt.show()"
   ]
  },
  {
   "cell_type": "markdown",
   "id": "6a07c87c",
   "metadata": {},
   "source": [
    "### **Distribution of daily deaths across top 5 countries (for each group):**"
   ]
  },
  {
   "cell_type": "code",
   "execution_count": 79,
   "id": "71f4f0b9",
   "metadata": {},
   "outputs": [],
   "source": [
    "# Filter the DataFrame by each restriction group\n",
    "df_low = covid_df[covid_df['country'].isin(low_countries)]\n",
    "df_moderate = covid_df[covid_df['country'].isin(moderate_countries)]\n",
    "df_severe = covid_df[covid_df['country'].isin(severe_countries)]\n",
    "\n",
    "def get_top5_countries(df):\n",
    "    deaths_by_country = df.groupby('country')['deaths'].sum().reset_index()\n",
    "    top5 = deaths_by_country.sort_values('deaths', ascending=False).head(5)['country'].tolist()\n",
    "    return top5\n",
    "\n",
    "top5_low = get_top5_countries(df_low)\n",
    "top5_moderate = get_top5_countries(df_moderate)\n",
    "top5_severe = get_top5_countries(df_severe)\n",
    "\n",
    "# Filter each DataFrame again to only include the Top 5 countries\n",
    "\n",
    "low_top5_df = df_low[df_low['country'].isin(top5_low)]\n",
    "moderate_top5_df = df_moderate[df_moderate['country'].isin(top5_moderate)]\n",
    "severe_top5_df = df_severe[df_severe['country'].isin(top5_severe)]"
   ]
  },
  {
   "cell_type": "code",
   "execution_count": 80,
   "id": "a4d6f4b3",
   "metadata": {},
   "outputs": [
    {
     "data": {
      "application/vnd.plotly.v1+json": {
       "config": {
        "plotlyServerURL": "https://plot.ly"
       },
       "data": [
        {
         "alignmentgroup": "True",
         "boxpoints": "all",
         "hovertemplate": "country=%{x}<br>daily_deaths=%{y}<extra></extra>",
         "legendgroup": "",
         "line": {
          "width": 0.65
         },
         "marker": {
          "color": "#3381ff",
          "line": {
           "color": "black",
           "width": 1
          },
          "opacity": 0.4,
          "size": 6
         },
         "name": "",
         "notched": false,
         "offsetgroup": "",
         "orientation": "v",
         "showlegend": false,
         "type": "box",
         "x": [
          "France",
          "France",
          "France",
          "France",
          "France",
          "France",
          "France",
          "France",
          "France",
          "France",
          "France",
          "France",
          "France",
          "France",
          "France",
          "France",
          "France",
          "France",
          "France",
          "France",
          "France",
          "France",
          "France",
          "France",
          "France",
          "France",
          "France",
          "France",
          "France",
          "France",
          "France",
          "France",
          "France",
          "France",
          "France",
          "France",
          "France",
          "France",
          "France",
          "France",
          "France",
          "Italy",
          "Italy",
          "Italy",
          "Italy",
          "Italy",
          "Italy",
          "Italy",
          "Italy",
          "Italy",
          "Italy",
          "Italy",
          "Italy",
          "Italy",
          "Italy",
          "Italy",
          "Italy",
          "Italy",
          "Italy",
          "Italy",
          "Italy",
          "Italy",
          "Italy",
          "Italy",
          "Italy",
          "Italy",
          "Italy",
          "Italy",
          "Italy",
          "Italy",
          "Italy",
          "Italy",
          "Italy",
          "Italy",
          "Italy",
          "Italy",
          "Italy",
          "Italy",
          "Italy",
          "Italy",
          "Italy",
          "Italy",
          "Spain",
          "Spain",
          "Spain",
          "Spain",
          "Spain",
          "Spain",
          "Spain",
          "Spain",
          "Spain",
          "Spain",
          "Spain",
          "Spain",
          "Spain",
          "Spain",
          "Spain",
          "Spain",
          "Spain",
          "Spain",
          "Spain",
          "Spain",
          "Spain",
          "Spain",
          "Spain",
          "Spain",
          "Spain",
          "Spain",
          "Spain",
          "Spain",
          "Spain",
          "Spain",
          "Spain",
          "Spain",
          "Spain",
          "Spain",
          "Spain",
          "Spain",
          "Spain",
          "Spain",
          "Spain",
          "Spain",
          "Spain",
          "Tanzania",
          "Tanzania",
          "Tanzania",
          "Tanzania",
          "Tanzania",
          "Tanzania",
          "Tanzania",
          "Tanzania",
          "Tanzania",
          "Tanzania",
          "Tanzania",
          "Tanzania",
          "Tanzania",
          "Tanzania",
          "Tanzania",
          "Tanzania",
          "Tanzania",
          "Tanzania",
          "Tanzania",
          "Tanzania",
          "Tanzania",
          "Tanzania",
          "Tanzania",
          "Tanzania",
          "Tanzania",
          "Tanzania",
          "Tanzania",
          "Tanzania",
          "Tanzania",
          "Tanzania",
          "Tanzania",
          "Tanzania",
          "Tanzania",
          "Tanzania",
          "Tanzania",
          "Tanzania",
          "Tanzania",
          "Tanzania",
          "Tanzania",
          "Tanzania",
          "Tanzania",
          "United Kingdom",
          "United Kingdom",
          "United Kingdom",
          "United Kingdom",
          "United Kingdom",
          "United Kingdom",
          "United Kingdom",
          "United Kingdom",
          "United Kingdom",
          "United Kingdom",
          "United Kingdom",
          "United Kingdom",
          "United Kingdom",
          "United Kingdom",
          "United Kingdom",
          "United Kingdom",
          "United Kingdom",
          "United Kingdom",
          "United Kingdom",
          "United Kingdom",
          "United Kingdom",
          "United Kingdom",
          "United Kingdom",
          "United Kingdom",
          "United Kingdom",
          "United Kingdom",
          "United Kingdom",
          "United Kingdom",
          "United Kingdom",
          "United Kingdom",
          "United Kingdom",
          "United Kingdom",
          "United Kingdom",
          "United Kingdom",
          "United Kingdom",
          "United Kingdom",
          "United Kingdom",
          "United Kingdom",
          "United Kingdom",
          "United Kingdom",
          "United Kingdom"
         ],
         "x0": " ",
         "xaxis": "x",
         "y": [
          0,
          0,
          0,
          1,
          0,
          0,
          0,
          0,
          1,
          1,
          0,
          3,
          2,
          7,
          3,
          6,
          8,
          15,
          0,
          31,
          12,
          0,
          58,
          0,
          0,
          95,
          207,
          112,
          113,
          186,
          240,
          231,
          364,
          299,
          318,
          294,
          417,
          501,
          1253,
          609,
          1122,
          0,
          0,
          0,
          0,
          0,
          0,
          0,
          0,
          1,
          1,
          1,
          4,
          3,
          2,
          5,
          4,
          8,
          5,
          18,
          27,
          28,
          41,
          49,
          36,
          133,
          97,
          168,
          196,
          189,
          250,
          175,
          368,
          349,
          345,
          475,
          427,
          627,
          793,
          651,
          601,
          743,
          0,
          0,
          0,
          0,
          0,
          0,
          0,
          0,
          0,
          0,
          1,
          1,
          1,
          2,
          5,
          7,
          11,
          7,
          19,
          1,
          78,
          62,
          94,
          53,
          191,
          90,
          207,
          213,
          332,
          397,
          539,
          497,
          839,
          718,
          773,
          844,
          821,
          913,
          748,
          923,
          961,
          0,
          0,
          0,
          0,
          0,
          0,
          0,
          0,
          0,
          0,
          0,
          0,
          0,
          0,
          0,
          0,
          0,
          0,
          0,
          0,
          669,
          0,
          0,
          0,
          4,
          0,
          0,
          0,
          0,
          0,
          0,
          1,
          0,
          0,
          0,
          0,
          0,
          0,
          0,
          0,
          0,
          0,
          0,
          0,
          0,
          0,
          0,
          0,
          1,
          0,
          1,
          2,
          2,
          0,
          2,
          5,
          3,
          7,
          13,
          16,
          21,
          31,
          52,
          58,
          74,
          79,
          118,
          144,
          182,
          208,
          263,
          337,
          413,
          464,
          516,
          586,
          713,
          831,
          925,
          1007,
          1062,
          1148
         ],
         "y0": " ",
         "yaxis": "y"
        }
       ],
       "layout": {
        "boxmode": "group",
        "font": {
         "size": 8.8
        },
        "legend": {
         "tracegroupgap": 0
        },
        "plot_bgcolor": "white",
        "template": {
         "data": {
          "bar": [
           {
            "error_x": {
             "color": "#2a3f5f"
            },
            "error_y": {
             "color": "#2a3f5f"
            },
            "marker": {
             "line": {
              "color": "white",
              "width": 0.5
             },
             "pattern": {
              "fillmode": "overlay",
              "size": 10,
              "solidity": 0.2
             }
            },
            "type": "bar"
           }
          ],
          "barpolar": [
           {
            "marker": {
             "line": {
              "color": "white",
              "width": 0.5
             },
             "pattern": {
              "fillmode": "overlay",
              "size": 10,
              "solidity": 0.2
             }
            },
            "type": "barpolar"
           }
          ],
          "carpet": [
           {
            "aaxis": {
             "endlinecolor": "#2a3f5f",
             "gridcolor": "#C8D4E3",
             "linecolor": "#C8D4E3",
             "minorgridcolor": "#C8D4E3",
             "startlinecolor": "#2a3f5f"
            },
            "baxis": {
             "endlinecolor": "#2a3f5f",
             "gridcolor": "#C8D4E3",
             "linecolor": "#C8D4E3",
             "minorgridcolor": "#C8D4E3",
             "startlinecolor": "#2a3f5f"
            },
            "type": "carpet"
           }
          ],
          "choropleth": [
           {
            "colorbar": {
             "outlinewidth": 0,
             "ticks": ""
            },
            "type": "choropleth"
           }
          ],
          "contour": [
           {
            "colorbar": {
             "outlinewidth": 0,
             "ticks": ""
            },
            "colorscale": [
             [
              0,
              "#0d0887"
             ],
             [
              0.1111111111111111,
              "#46039f"
             ],
             [
              0.2222222222222222,
              "#7201a8"
             ],
             [
              0.3333333333333333,
              "#9c179e"
             ],
             [
              0.4444444444444444,
              "#bd3786"
             ],
             [
              0.5555555555555556,
              "#d8576b"
             ],
             [
              0.6666666666666666,
              "#ed7953"
             ],
             [
              0.7777777777777778,
              "#fb9f3a"
             ],
             [
              0.8888888888888888,
              "#fdca26"
             ],
             [
              1,
              "#f0f921"
             ]
            ],
            "type": "contour"
           }
          ],
          "contourcarpet": [
           {
            "colorbar": {
             "outlinewidth": 0,
             "ticks": ""
            },
            "type": "contourcarpet"
           }
          ],
          "heatmap": [
           {
            "colorbar": {
             "outlinewidth": 0,
             "ticks": ""
            },
            "colorscale": [
             [
              0,
              "#0d0887"
             ],
             [
              0.1111111111111111,
              "#46039f"
             ],
             [
              0.2222222222222222,
              "#7201a8"
             ],
             [
              0.3333333333333333,
              "#9c179e"
             ],
             [
              0.4444444444444444,
              "#bd3786"
             ],
             [
              0.5555555555555556,
              "#d8576b"
             ],
             [
              0.6666666666666666,
              "#ed7953"
             ],
             [
              0.7777777777777778,
              "#fb9f3a"
             ],
             [
              0.8888888888888888,
              "#fdca26"
             ],
             [
              1,
              "#f0f921"
             ]
            ],
            "type": "heatmap"
           }
          ],
          "heatmapgl": [
           {
            "colorbar": {
             "outlinewidth": 0,
             "ticks": ""
            },
            "colorscale": [
             [
              0,
              "#0d0887"
             ],
             [
              0.1111111111111111,
              "#46039f"
             ],
             [
              0.2222222222222222,
              "#7201a8"
             ],
             [
              0.3333333333333333,
              "#9c179e"
             ],
             [
              0.4444444444444444,
              "#bd3786"
             ],
             [
              0.5555555555555556,
              "#d8576b"
             ],
             [
              0.6666666666666666,
              "#ed7953"
             ],
             [
              0.7777777777777778,
              "#fb9f3a"
             ],
             [
              0.8888888888888888,
              "#fdca26"
             ],
             [
              1,
              "#f0f921"
             ]
            ],
            "type": "heatmapgl"
           }
          ],
          "histogram": [
           {
            "marker": {
             "pattern": {
              "fillmode": "overlay",
              "size": 10,
              "solidity": 0.2
             }
            },
            "type": "histogram"
           }
          ],
          "histogram2d": [
           {
            "colorbar": {
             "outlinewidth": 0,
             "ticks": ""
            },
            "colorscale": [
             [
              0,
              "#0d0887"
             ],
             [
              0.1111111111111111,
              "#46039f"
             ],
             [
              0.2222222222222222,
              "#7201a8"
             ],
             [
              0.3333333333333333,
              "#9c179e"
             ],
             [
              0.4444444444444444,
              "#bd3786"
             ],
             [
              0.5555555555555556,
              "#d8576b"
             ],
             [
              0.6666666666666666,
              "#ed7953"
             ],
             [
              0.7777777777777778,
              "#fb9f3a"
             ],
             [
              0.8888888888888888,
              "#fdca26"
             ],
             [
              1,
              "#f0f921"
             ]
            ],
            "type": "histogram2d"
           }
          ],
          "histogram2dcontour": [
           {
            "colorbar": {
             "outlinewidth": 0,
             "ticks": ""
            },
            "colorscale": [
             [
              0,
              "#0d0887"
             ],
             [
              0.1111111111111111,
              "#46039f"
             ],
             [
              0.2222222222222222,
              "#7201a8"
             ],
             [
              0.3333333333333333,
              "#9c179e"
             ],
             [
              0.4444444444444444,
              "#bd3786"
             ],
             [
              0.5555555555555556,
              "#d8576b"
             ],
             [
              0.6666666666666666,
              "#ed7953"
             ],
             [
              0.7777777777777778,
              "#fb9f3a"
             ],
             [
              0.8888888888888888,
              "#fdca26"
             ],
             [
              1,
              "#f0f921"
             ]
            ],
            "type": "histogram2dcontour"
           }
          ],
          "mesh3d": [
           {
            "colorbar": {
             "outlinewidth": 0,
             "ticks": ""
            },
            "type": "mesh3d"
           }
          ],
          "parcoords": [
           {
            "line": {
             "colorbar": {
              "outlinewidth": 0,
              "ticks": ""
             }
            },
            "type": "parcoords"
           }
          ],
          "pie": [
           {
            "automargin": true,
            "type": "pie"
           }
          ],
          "scatter": [
           {
            "fillpattern": {
             "fillmode": "overlay",
             "size": 10,
             "solidity": 0.2
            },
            "type": "scatter"
           }
          ],
          "scatter3d": [
           {
            "line": {
             "colorbar": {
              "outlinewidth": 0,
              "ticks": ""
             }
            },
            "marker": {
             "colorbar": {
              "outlinewidth": 0,
              "ticks": ""
             }
            },
            "type": "scatter3d"
           }
          ],
          "scattercarpet": [
           {
            "marker": {
             "colorbar": {
              "outlinewidth": 0,
              "ticks": ""
             }
            },
            "type": "scattercarpet"
           }
          ],
          "scattergeo": [
           {
            "marker": {
             "colorbar": {
              "outlinewidth": 0,
              "ticks": ""
             }
            },
            "type": "scattergeo"
           }
          ],
          "scattergl": [
           {
            "marker": {
             "colorbar": {
              "outlinewidth": 0,
              "ticks": ""
             }
            },
            "type": "scattergl"
           }
          ],
          "scattermapbox": [
           {
            "marker": {
             "colorbar": {
              "outlinewidth": 0,
              "ticks": ""
             }
            },
            "type": "scattermapbox"
           }
          ],
          "scatterpolar": [
           {
            "marker": {
             "colorbar": {
              "outlinewidth": 0,
              "ticks": ""
             }
            },
            "type": "scatterpolar"
           }
          ],
          "scatterpolargl": [
           {
            "marker": {
             "colorbar": {
              "outlinewidth": 0,
              "ticks": ""
             }
            },
            "type": "scatterpolargl"
           }
          ],
          "scatterternary": [
           {
            "marker": {
             "colorbar": {
              "outlinewidth": 0,
              "ticks": ""
             }
            },
            "type": "scatterternary"
           }
          ],
          "surface": [
           {
            "colorbar": {
             "outlinewidth": 0,
             "ticks": ""
            },
            "colorscale": [
             [
              0,
              "#0d0887"
             ],
             [
              0.1111111111111111,
              "#46039f"
             ],
             [
              0.2222222222222222,
              "#7201a8"
             ],
             [
              0.3333333333333333,
              "#9c179e"
             ],
             [
              0.4444444444444444,
              "#bd3786"
             ],
             [
              0.5555555555555556,
              "#d8576b"
             ],
             [
              0.6666666666666666,
              "#ed7953"
             ],
             [
              0.7777777777777778,
              "#fb9f3a"
             ],
             [
              0.8888888888888888,
              "#fdca26"
             ],
             [
              1,
              "#f0f921"
             ]
            ],
            "type": "surface"
           }
          ],
          "table": [
           {
            "cells": {
             "fill": {
              "color": "#EBF0F8"
             },
             "line": {
              "color": "white"
             }
            },
            "header": {
             "fill": {
              "color": "#C8D4E3"
             },
             "line": {
              "color": "white"
             }
            },
            "type": "table"
           }
          ]
         },
         "layout": {
          "annotationdefaults": {
           "arrowcolor": "#2a3f5f",
           "arrowhead": 0,
           "arrowwidth": 1
          },
          "autotypenumbers": "strict",
          "coloraxis": {
           "colorbar": {
            "outlinewidth": 0,
            "ticks": ""
           }
          },
          "colorscale": {
           "diverging": [
            [
             0,
             "#8e0152"
            ],
            [
             0.1,
             "#c51b7d"
            ],
            [
             0.2,
             "#de77ae"
            ],
            [
             0.3,
             "#f1b6da"
            ],
            [
             0.4,
             "#fde0ef"
            ],
            [
             0.5,
             "#f7f7f7"
            ],
            [
             0.6,
             "#e6f5d0"
            ],
            [
             0.7,
             "#b8e186"
            ],
            [
             0.8,
             "#7fbc41"
            ],
            [
             0.9,
             "#4d9221"
            ],
            [
             1,
             "#276419"
            ]
           ],
           "sequential": [
            [
             0,
             "#0d0887"
            ],
            [
             0.1111111111111111,
             "#46039f"
            ],
            [
             0.2222222222222222,
             "#7201a8"
            ],
            [
             0.3333333333333333,
             "#9c179e"
            ],
            [
             0.4444444444444444,
             "#bd3786"
            ],
            [
             0.5555555555555556,
             "#d8576b"
            ],
            [
             0.6666666666666666,
             "#ed7953"
            ],
            [
             0.7777777777777778,
             "#fb9f3a"
            ],
            [
             0.8888888888888888,
             "#fdca26"
            ],
            [
             1,
             "#f0f921"
            ]
           ],
           "sequentialminus": [
            [
             0,
             "#0d0887"
            ],
            [
             0.1111111111111111,
             "#46039f"
            ],
            [
             0.2222222222222222,
             "#7201a8"
            ],
            [
             0.3333333333333333,
             "#9c179e"
            ],
            [
             0.4444444444444444,
             "#bd3786"
            ],
            [
             0.5555555555555556,
             "#d8576b"
            ],
            [
             0.6666666666666666,
             "#ed7953"
            ],
            [
             0.7777777777777778,
             "#fb9f3a"
            ],
            [
             0.8888888888888888,
             "#fdca26"
            ],
            [
             1,
             "#f0f921"
            ]
           ]
          },
          "colorway": [
           "#636efa",
           "#EF553B",
           "#00cc96",
           "#ab63fa",
           "#FFA15A",
           "#19d3f3",
           "#FF6692",
           "#B6E880",
           "#FF97FF",
           "#FECB52"
          ],
          "font": {
           "color": "#2a3f5f"
          },
          "geo": {
           "bgcolor": "white",
           "lakecolor": "white",
           "landcolor": "white",
           "showlakes": true,
           "showland": true,
           "subunitcolor": "#C8D4E3"
          },
          "hoverlabel": {
           "align": "left"
          },
          "hovermode": "closest",
          "mapbox": {
           "style": "light"
          },
          "paper_bgcolor": "white",
          "plot_bgcolor": "white",
          "polar": {
           "angularaxis": {
            "gridcolor": "#EBF0F8",
            "linecolor": "#EBF0F8",
            "ticks": ""
           },
           "bgcolor": "white",
           "radialaxis": {
            "gridcolor": "#EBF0F8",
            "linecolor": "#EBF0F8",
            "ticks": ""
           }
          },
          "scene": {
           "xaxis": {
            "backgroundcolor": "white",
            "gridcolor": "#DFE8F3",
            "gridwidth": 2,
            "linecolor": "#EBF0F8",
            "showbackground": true,
            "ticks": "",
            "zerolinecolor": "#EBF0F8"
           },
           "yaxis": {
            "backgroundcolor": "white",
            "gridcolor": "#DFE8F3",
            "gridwidth": 2,
            "linecolor": "#EBF0F8",
            "showbackground": true,
            "ticks": "",
            "zerolinecolor": "#EBF0F8"
           },
           "zaxis": {
            "backgroundcolor": "white",
            "gridcolor": "#DFE8F3",
            "gridwidth": 2,
            "linecolor": "#EBF0F8",
            "showbackground": true,
            "ticks": "",
            "zerolinecolor": "#EBF0F8"
           }
          },
          "shapedefaults": {
           "line": {
            "color": "#2a3f5f"
           }
          },
          "ternary": {
           "aaxis": {
            "gridcolor": "#DFE8F3",
            "linecolor": "#A2B1C6",
            "ticks": ""
           },
           "baxis": {
            "gridcolor": "#DFE8F3",
            "linecolor": "#A2B1C6",
            "ticks": ""
           },
           "bgcolor": "white",
           "caxis": {
            "gridcolor": "#DFE8F3",
            "linecolor": "#A2B1C6",
            "ticks": ""
           }
          },
          "title": {
           "x": 0.05
          },
          "xaxis": {
           "automargin": true,
           "gridcolor": "#EBF0F8",
           "linecolor": "#EBF0F8",
           "ticks": "",
           "title": {
            "standoff": 15
           },
           "zerolinecolor": "#EBF0F8",
           "zerolinewidth": 2
          },
          "yaxis": {
           "automargin": true,
           "gridcolor": "#EBF0F8",
           "linecolor": "#EBF0F8",
           "ticks": "",
           "title": {
            "standoff": 15
           },
           "zerolinecolor": "#EBF0F8",
           "zerolinewidth": 2
          }
         }
        },
        "title": {
         "font": {
          "size": 13.2
         },
         "text": "Top 5 Low Restriction Countries by Deaths (Boxplot)"
        },
        "width": 600,
        "xaxis": {
         "anchor": "y",
         "domain": [
          0,
          1
         ],
         "tickfont": {
          "size": 8.8
         },
         "title": {
          "text": "country"
         }
        },
        "yaxis": {
         "anchor": "x",
         "domain": [
          0,
          1
         ],
         "tickfont": {
          "size": 8.8
         },
         "title": {
          "text": "daily_deaths"
         }
        }
       }
      }
     },
     "metadata": {},
     "output_type": "display_data"
    }
   ],
   "source": [
    "fig_low = px.box(\n",
    "    low_top5_df,\n",
    "    x='country',\n",
    "    y='daily_deaths',\n",
    "    points='all',\n",
    "    title=\"Top 5 Low Restriction Countries by Deaths (Boxplot)\",\n",
    "    color_discrete_sequence=['#3381ff']\n",
    ")\n",
    "fig_low.update_layout(\n",
    "    template='plotly_white',\n",
    "    plot_bgcolor='white',\n",
    "    title_font_size=13.2,\n",
    "    font=dict(size=8.8),\n",
    "    xaxis=dict(tickfont=dict(size=8.8)),\n",
    "    yaxis=dict(tickfont=dict(size=8.8)),\n",
    "    width=600\n",
    ")\n",
    "fig_low.update_traces(\n",
    "    marker=dict(size=6, opacity=0.4, line=dict(width=1, color='black'))\n",
    ")\n",
    "fig_low.for_each_trace(lambda t: t.update(line=dict(width=0.65)))\n",
    "fig_low.show()"
   ]
  },
  {
   "cell_type": "markdown",
   "id": "6a04df65",
   "metadata": {},
   "source": [
    "These “low restriction” countries reveal a significant range in daily deaths, underscoring that relaxed policies alone do not uniformly translate into low fatality rates. \n",
    "\n",
    "Spain and the United Kingdom, for instance, show larger spikes (visible in the tall outliers), suggesting periods when daily fatalities surged well beyond the median. \n",
    "\n",
    "In contrast, Japan’s boxplot remains relatively compressed, pointing to a more stable pattern of daily deaths despite similarly low restriction levels. This divergence implies that factors like population density, healthcare infrastructure, and timing of virus surges can be as influential—if not more so—than policy strictness alone. \n",
    "\n",
    "---"
   ]
  },
  {
   "cell_type": "code",
   "execution_count": 81,
   "id": "86093930",
   "metadata": {},
   "outputs": [
    {
     "data": {
      "application/vnd.plotly.v1+json": {
       "config": {
        "plotlyServerURL": "https://plot.ly"
       },
       "data": [
        {
         "alignmentgroup": "True",
         "boxpoints": "all",
         "hovertemplate": "country=%{x}<br>daily_deaths=%{y}<extra></extra>",
         "legendgroup": "",
         "line": {
          "width": 0.65
         },
         "marker": {
          "color": "#3381ff",
          "line": {
           "color": "black",
           "width": 1
          },
          "opacity": 0.4,
          "size": 6
         },
         "name": "",
         "notched": false,
         "offsetgroup": "",
         "orientation": "v",
         "showlegend": false,
         "type": "box",
         "x": [
          "Belgium",
          "Belgium",
          "Belgium",
          "Belgium",
          "Belgium",
          "Belgium",
          "Belgium",
          "Belgium",
          "Belgium",
          "Belgium",
          "Belgium",
          "Belgium",
          "Belgium",
          "Belgium",
          "Belgium",
          "Belgium",
          "Belgium",
          "Belgium",
          "Belgium",
          "Belgium",
          "Belgium",
          "Belgium",
          "Belgium",
          "Belgium",
          "Belgium",
          "Belgium",
          "Belgium",
          "Belgium",
          "Belgium",
          "Belgium",
          "Belgium",
          "Belgium",
          "Belgium",
          "Belgium",
          "Belgium",
          "Belgium",
          "Belgium",
          "Belgium",
          "Belgium",
          "Belgium",
          "Belgium",
          "Brazil",
          "Brazil",
          "Brazil",
          "Brazil",
          "Brazil",
          "Brazil",
          "Brazil",
          "Brazil",
          "Brazil",
          "Brazil",
          "Brazil",
          "Brazil",
          "Brazil",
          "Brazil",
          "Brazil",
          "Brazil",
          "Brazil",
          "Brazil",
          "Brazil",
          "Brazil",
          "Brazil",
          "Brazil",
          "Brazil",
          "Brazil",
          "Brazil",
          "Brazil",
          "Brazil",
          "Brazil",
          "Brazil",
          "Brazil",
          "Brazil",
          "Brazil",
          "Brazil",
          "Brazil",
          "Brazil",
          "Brazil",
          "Brazil",
          "Brazil",
          "Brazil",
          "Brazil",
          "Brazil",
          "Germany",
          "Germany",
          "Germany",
          "Germany",
          "Germany",
          "Germany",
          "Germany",
          "Germany",
          "Germany",
          "Germany",
          "Germany",
          "Germany",
          "Germany",
          "Germany",
          "Germany",
          "Germany",
          "Germany",
          "Germany",
          "Germany",
          "Germany",
          "Germany",
          "Germany",
          "Germany",
          "Germany",
          "Germany",
          "Germany",
          "Germany",
          "Germany",
          "Germany",
          "Germany",
          "Germany",
          "Germany",
          "Germany",
          "Germany",
          "Germany",
          "Germany",
          "Germany",
          "Germany",
          "Germany",
          "Germany",
          "Germany",
          "Netherlands",
          "Netherlands",
          "Netherlands",
          "Netherlands",
          "Netherlands",
          "Netherlands",
          "Netherlands",
          "Netherlands",
          "Netherlands",
          "Netherlands",
          "Netherlands",
          "Netherlands",
          "Netherlands",
          "Netherlands",
          "Netherlands",
          "Netherlands",
          "Netherlands",
          "Netherlands",
          "Netherlands",
          "Netherlands",
          "Netherlands",
          "Netherlands",
          "Netherlands",
          "Netherlands",
          "Netherlands",
          "Netherlands",
          "Netherlands",
          "Netherlands",
          "Netherlands",
          "Netherlands",
          "Netherlands",
          "Netherlands",
          "Netherlands",
          "Netherlands",
          "Netherlands",
          "Netherlands",
          "Netherlands",
          "Netherlands",
          "Netherlands",
          "Netherlands",
          "Netherlands",
          "Turkey",
          "Turkey",
          "Turkey",
          "Turkey",
          "Turkey",
          "Turkey",
          "Turkey",
          "Turkey",
          "Turkey",
          "Turkey",
          "Turkey",
          "Turkey",
          "Turkey",
          "Turkey",
          "Turkey",
          "Turkey",
          "Turkey",
          "Turkey",
          "Turkey",
          "Turkey",
          "Turkey",
          "Turkey",
          "Turkey",
          "Turkey",
          "Turkey",
          "Turkey",
          "Turkey",
          "Turkey",
          "Turkey",
          "Turkey",
          "Turkey",
          "Turkey",
          "Turkey",
          "Turkey",
          "Turkey",
          "Turkey",
          "Turkey",
          "Turkey",
          "Turkey",
          "Turkey",
          "Turkey"
         ],
         "x0": " ",
         "xaxis": "x",
         "y": [
          0,
          0,
          0,
          0,
          0,
          0,
          0,
          0,
          3,
          0,
          0,
          1,
          0,
          1,
          5,
          4,
          7,
          16,
          30,
          8,
          13,
          34,
          56,
          42,
          69,
          64,
          78,
          82,
          192,
          123,
          183,
          132,
          140,
          164,
          185,
          403,
          205,
          283,
          496,
          327,
          254,
          0,
          0,
          0,
          0,
          0,
          0,
          0,
          0,
          0,
          0,
          1,
          2,
          3,
          5,
          4,
          10,
          9,
          12,
          13,
          18,
          15,
          19,
          25,
          23,
          42,
          39,
          84,
          35,
          86,
          41,
          78,
          122,
          133,
          131,
          107,
          67,
          99,
          105,
          204,
          204,
          188,
          0,
          0,
          0,
          0,
          0,
          0,
          2,
          0,
          1,
          2,
          0,
          3,
          4,
          1,
          0,
          0,
          8,
          11,
          16,
          8,
          31,
          28,
          35,
          49,
          55,
          72,
          64,
          66,
          128,
          149,
          140,
          145,
          141,
          184,
          92,
          173,
          254,
          246,
          266,
          171,
          129,
          0,
          0,
          0,
          0,
          0,
          0,
          1,
          0,
          2,
          0,
          1,
          1,
          0,
          5,
          2,
          8,
          4,
          19,
          15,
          19,
          30,
          30,
          43,
          34,
          63,
          80,
          78,
          112,
          93,
          132,
          93,
          175,
          135,
          166,
          149,
          166,
          115,
          103,
          234,
          147,
          148,
          0,
          0,
          0,
          0,
          0,
          0,
          0,
          0,
          0,
          0,
          1,
          0,
          2,
          1,
          5,
          21,
          7,
          7,
          15,
          16,
          17,
          16,
          23,
          37,
          46,
          63,
          79,
          69,
          76,
          73,
          75,
          76,
          87,
          96,
          98,
          95,
          97,
          98,
          107,
          115,
          125
         ],
         "y0": " ",
         "yaxis": "y"
        }
       ],
       "layout": {
        "boxmode": "group",
        "font": {
         "size": 8.8
        },
        "legend": {
         "tracegroupgap": 0
        },
        "plot_bgcolor": "white",
        "template": {
         "data": {
          "bar": [
           {
            "error_x": {
             "color": "#2a3f5f"
            },
            "error_y": {
             "color": "#2a3f5f"
            },
            "marker": {
             "line": {
              "color": "white",
              "width": 0.5
             },
             "pattern": {
              "fillmode": "overlay",
              "size": 10,
              "solidity": 0.2
             }
            },
            "type": "bar"
           }
          ],
          "barpolar": [
           {
            "marker": {
             "line": {
              "color": "white",
              "width": 0.5
             },
             "pattern": {
              "fillmode": "overlay",
              "size": 10,
              "solidity": 0.2
             }
            },
            "type": "barpolar"
           }
          ],
          "carpet": [
           {
            "aaxis": {
             "endlinecolor": "#2a3f5f",
             "gridcolor": "#C8D4E3",
             "linecolor": "#C8D4E3",
             "minorgridcolor": "#C8D4E3",
             "startlinecolor": "#2a3f5f"
            },
            "baxis": {
             "endlinecolor": "#2a3f5f",
             "gridcolor": "#C8D4E3",
             "linecolor": "#C8D4E3",
             "minorgridcolor": "#C8D4E3",
             "startlinecolor": "#2a3f5f"
            },
            "type": "carpet"
           }
          ],
          "choropleth": [
           {
            "colorbar": {
             "outlinewidth": 0,
             "ticks": ""
            },
            "type": "choropleth"
           }
          ],
          "contour": [
           {
            "colorbar": {
             "outlinewidth": 0,
             "ticks": ""
            },
            "colorscale": [
             [
              0,
              "#0d0887"
             ],
             [
              0.1111111111111111,
              "#46039f"
             ],
             [
              0.2222222222222222,
              "#7201a8"
             ],
             [
              0.3333333333333333,
              "#9c179e"
             ],
             [
              0.4444444444444444,
              "#bd3786"
             ],
             [
              0.5555555555555556,
              "#d8576b"
             ],
             [
              0.6666666666666666,
              "#ed7953"
             ],
             [
              0.7777777777777778,
              "#fb9f3a"
             ],
             [
              0.8888888888888888,
              "#fdca26"
             ],
             [
              1,
              "#f0f921"
             ]
            ],
            "type": "contour"
           }
          ],
          "contourcarpet": [
           {
            "colorbar": {
             "outlinewidth": 0,
             "ticks": ""
            },
            "type": "contourcarpet"
           }
          ],
          "heatmap": [
           {
            "colorbar": {
             "outlinewidth": 0,
             "ticks": ""
            },
            "colorscale": [
             [
              0,
              "#0d0887"
             ],
             [
              0.1111111111111111,
              "#46039f"
             ],
             [
              0.2222222222222222,
              "#7201a8"
             ],
             [
              0.3333333333333333,
              "#9c179e"
             ],
             [
              0.4444444444444444,
              "#bd3786"
             ],
             [
              0.5555555555555556,
              "#d8576b"
             ],
             [
              0.6666666666666666,
              "#ed7953"
             ],
             [
              0.7777777777777778,
              "#fb9f3a"
             ],
             [
              0.8888888888888888,
              "#fdca26"
             ],
             [
              1,
              "#f0f921"
             ]
            ],
            "type": "heatmap"
           }
          ],
          "heatmapgl": [
           {
            "colorbar": {
             "outlinewidth": 0,
             "ticks": ""
            },
            "colorscale": [
             [
              0,
              "#0d0887"
             ],
             [
              0.1111111111111111,
              "#46039f"
             ],
             [
              0.2222222222222222,
              "#7201a8"
             ],
             [
              0.3333333333333333,
              "#9c179e"
             ],
             [
              0.4444444444444444,
              "#bd3786"
             ],
             [
              0.5555555555555556,
              "#d8576b"
             ],
             [
              0.6666666666666666,
              "#ed7953"
             ],
             [
              0.7777777777777778,
              "#fb9f3a"
             ],
             [
              0.8888888888888888,
              "#fdca26"
             ],
             [
              1,
              "#f0f921"
             ]
            ],
            "type": "heatmapgl"
           }
          ],
          "histogram": [
           {
            "marker": {
             "pattern": {
              "fillmode": "overlay",
              "size": 10,
              "solidity": 0.2
             }
            },
            "type": "histogram"
           }
          ],
          "histogram2d": [
           {
            "colorbar": {
             "outlinewidth": 0,
             "ticks": ""
            },
            "colorscale": [
             [
              0,
              "#0d0887"
             ],
             [
              0.1111111111111111,
              "#46039f"
             ],
             [
              0.2222222222222222,
              "#7201a8"
             ],
             [
              0.3333333333333333,
              "#9c179e"
             ],
             [
              0.4444444444444444,
              "#bd3786"
             ],
             [
              0.5555555555555556,
              "#d8576b"
             ],
             [
              0.6666666666666666,
              "#ed7953"
             ],
             [
              0.7777777777777778,
              "#fb9f3a"
             ],
             [
              0.8888888888888888,
              "#fdca26"
             ],
             [
              1,
              "#f0f921"
             ]
            ],
            "type": "histogram2d"
           }
          ],
          "histogram2dcontour": [
           {
            "colorbar": {
             "outlinewidth": 0,
             "ticks": ""
            },
            "colorscale": [
             [
              0,
              "#0d0887"
             ],
             [
              0.1111111111111111,
              "#46039f"
             ],
             [
              0.2222222222222222,
              "#7201a8"
             ],
             [
              0.3333333333333333,
              "#9c179e"
             ],
             [
              0.4444444444444444,
              "#bd3786"
             ],
             [
              0.5555555555555556,
              "#d8576b"
             ],
             [
              0.6666666666666666,
              "#ed7953"
             ],
             [
              0.7777777777777778,
              "#fb9f3a"
             ],
             [
              0.8888888888888888,
              "#fdca26"
             ],
             [
              1,
              "#f0f921"
             ]
            ],
            "type": "histogram2dcontour"
           }
          ],
          "mesh3d": [
           {
            "colorbar": {
             "outlinewidth": 0,
             "ticks": ""
            },
            "type": "mesh3d"
           }
          ],
          "parcoords": [
           {
            "line": {
             "colorbar": {
              "outlinewidth": 0,
              "ticks": ""
             }
            },
            "type": "parcoords"
           }
          ],
          "pie": [
           {
            "automargin": true,
            "type": "pie"
           }
          ],
          "scatter": [
           {
            "fillpattern": {
             "fillmode": "overlay",
             "size": 10,
             "solidity": 0.2
            },
            "type": "scatter"
           }
          ],
          "scatter3d": [
           {
            "line": {
             "colorbar": {
              "outlinewidth": 0,
              "ticks": ""
             }
            },
            "marker": {
             "colorbar": {
              "outlinewidth": 0,
              "ticks": ""
             }
            },
            "type": "scatter3d"
           }
          ],
          "scattercarpet": [
           {
            "marker": {
             "colorbar": {
              "outlinewidth": 0,
              "ticks": ""
             }
            },
            "type": "scattercarpet"
           }
          ],
          "scattergeo": [
           {
            "marker": {
             "colorbar": {
              "outlinewidth": 0,
              "ticks": ""
             }
            },
            "type": "scattergeo"
           }
          ],
          "scattergl": [
           {
            "marker": {
             "colorbar": {
              "outlinewidth": 0,
              "ticks": ""
             }
            },
            "type": "scattergl"
           }
          ],
          "scattermapbox": [
           {
            "marker": {
             "colorbar": {
              "outlinewidth": 0,
              "ticks": ""
             }
            },
            "type": "scattermapbox"
           }
          ],
          "scatterpolar": [
           {
            "marker": {
             "colorbar": {
              "outlinewidth": 0,
              "ticks": ""
             }
            },
            "type": "scatterpolar"
           }
          ],
          "scatterpolargl": [
           {
            "marker": {
             "colorbar": {
              "outlinewidth": 0,
              "ticks": ""
             }
            },
            "type": "scatterpolargl"
           }
          ],
          "scatterternary": [
           {
            "marker": {
             "colorbar": {
              "outlinewidth": 0,
              "ticks": ""
             }
            },
            "type": "scatterternary"
           }
          ],
          "surface": [
           {
            "colorbar": {
             "outlinewidth": 0,
             "ticks": ""
            },
            "colorscale": [
             [
              0,
              "#0d0887"
             ],
             [
              0.1111111111111111,
              "#46039f"
             ],
             [
              0.2222222222222222,
              "#7201a8"
             ],
             [
              0.3333333333333333,
              "#9c179e"
             ],
             [
              0.4444444444444444,
              "#bd3786"
             ],
             [
              0.5555555555555556,
              "#d8576b"
             ],
             [
              0.6666666666666666,
              "#ed7953"
             ],
             [
              0.7777777777777778,
              "#fb9f3a"
             ],
             [
              0.8888888888888888,
              "#fdca26"
             ],
             [
              1,
              "#f0f921"
             ]
            ],
            "type": "surface"
           }
          ],
          "table": [
           {
            "cells": {
             "fill": {
              "color": "#EBF0F8"
             },
             "line": {
              "color": "white"
             }
            },
            "header": {
             "fill": {
              "color": "#C8D4E3"
             },
             "line": {
              "color": "white"
             }
            },
            "type": "table"
           }
          ]
         },
         "layout": {
          "annotationdefaults": {
           "arrowcolor": "#2a3f5f",
           "arrowhead": 0,
           "arrowwidth": 1
          },
          "autotypenumbers": "strict",
          "coloraxis": {
           "colorbar": {
            "outlinewidth": 0,
            "ticks": ""
           }
          },
          "colorscale": {
           "diverging": [
            [
             0,
             "#8e0152"
            ],
            [
             0.1,
             "#c51b7d"
            ],
            [
             0.2,
             "#de77ae"
            ],
            [
             0.3,
             "#f1b6da"
            ],
            [
             0.4,
             "#fde0ef"
            ],
            [
             0.5,
             "#f7f7f7"
            ],
            [
             0.6,
             "#e6f5d0"
            ],
            [
             0.7,
             "#b8e186"
            ],
            [
             0.8,
             "#7fbc41"
            ],
            [
             0.9,
             "#4d9221"
            ],
            [
             1,
             "#276419"
            ]
           ],
           "sequential": [
            [
             0,
             "#0d0887"
            ],
            [
             0.1111111111111111,
             "#46039f"
            ],
            [
             0.2222222222222222,
             "#7201a8"
            ],
            [
             0.3333333333333333,
             "#9c179e"
            ],
            [
             0.4444444444444444,
             "#bd3786"
            ],
            [
             0.5555555555555556,
             "#d8576b"
            ],
            [
             0.6666666666666666,
             "#ed7953"
            ],
            [
             0.7777777777777778,
             "#fb9f3a"
            ],
            [
             0.8888888888888888,
             "#fdca26"
            ],
            [
             1,
             "#f0f921"
            ]
           ],
           "sequentialminus": [
            [
             0,
             "#0d0887"
            ],
            [
             0.1111111111111111,
             "#46039f"
            ],
            [
             0.2222222222222222,
             "#7201a8"
            ],
            [
             0.3333333333333333,
             "#9c179e"
            ],
            [
             0.4444444444444444,
             "#bd3786"
            ],
            [
             0.5555555555555556,
             "#d8576b"
            ],
            [
             0.6666666666666666,
             "#ed7953"
            ],
            [
             0.7777777777777778,
             "#fb9f3a"
            ],
            [
             0.8888888888888888,
             "#fdca26"
            ],
            [
             1,
             "#f0f921"
            ]
           ]
          },
          "colorway": [
           "#636efa",
           "#EF553B",
           "#00cc96",
           "#ab63fa",
           "#FFA15A",
           "#19d3f3",
           "#FF6692",
           "#B6E880",
           "#FF97FF",
           "#FECB52"
          ],
          "font": {
           "color": "#2a3f5f"
          },
          "geo": {
           "bgcolor": "white",
           "lakecolor": "white",
           "landcolor": "white",
           "showlakes": true,
           "showland": true,
           "subunitcolor": "#C8D4E3"
          },
          "hoverlabel": {
           "align": "left"
          },
          "hovermode": "closest",
          "mapbox": {
           "style": "light"
          },
          "paper_bgcolor": "white",
          "plot_bgcolor": "white",
          "polar": {
           "angularaxis": {
            "gridcolor": "#EBF0F8",
            "linecolor": "#EBF0F8",
            "ticks": ""
           },
           "bgcolor": "white",
           "radialaxis": {
            "gridcolor": "#EBF0F8",
            "linecolor": "#EBF0F8",
            "ticks": ""
           }
          },
          "scene": {
           "xaxis": {
            "backgroundcolor": "white",
            "gridcolor": "#DFE8F3",
            "gridwidth": 2,
            "linecolor": "#EBF0F8",
            "showbackground": true,
            "ticks": "",
            "zerolinecolor": "#EBF0F8"
           },
           "yaxis": {
            "backgroundcolor": "white",
            "gridcolor": "#DFE8F3",
            "gridwidth": 2,
            "linecolor": "#EBF0F8",
            "showbackground": true,
            "ticks": "",
            "zerolinecolor": "#EBF0F8"
           },
           "zaxis": {
            "backgroundcolor": "white",
            "gridcolor": "#DFE8F3",
            "gridwidth": 2,
            "linecolor": "#EBF0F8",
            "showbackground": true,
            "ticks": "",
            "zerolinecolor": "#EBF0F8"
           }
          },
          "shapedefaults": {
           "line": {
            "color": "#2a3f5f"
           }
          },
          "ternary": {
           "aaxis": {
            "gridcolor": "#DFE8F3",
            "linecolor": "#A2B1C6",
            "ticks": ""
           },
           "baxis": {
            "gridcolor": "#DFE8F3",
            "linecolor": "#A2B1C6",
            "ticks": ""
           },
           "bgcolor": "white",
           "caxis": {
            "gridcolor": "#DFE8F3",
            "linecolor": "#A2B1C6",
            "ticks": ""
           }
          },
          "title": {
           "x": 0.05
          },
          "xaxis": {
           "automargin": true,
           "gridcolor": "#EBF0F8",
           "linecolor": "#EBF0F8",
           "ticks": "",
           "title": {
            "standoff": 15
           },
           "zerolinecolor": "#EBF0F8",
           "zerolinewidth": 2
          },
          "yaxis": {
           "automargin": true,
           "gridcolor": "#EBF0F8",
           "linecolor": "#EBF0F8",
           "ticks": "",
           "title": {
            "standoff": 15
           },
           "zerolinecolor": "#EBF0F8",
           "zerolinewidth": 2
          }
         }
        },
        "title": {
         "font": {
          "size": 13.2
         },
         "text": "Top 5 Moderate Restriction Countries by Deaths (Boxplot)"
        },
        "width": 600,
        "xaxis": {
         "anchor": "y",
         "domain": [
          0,
          1
         ],
         "tickfont": {
          "size": 8.8
         },
         "title": {
          "text": "country"
         }
        },
        "yaxis": {
         "anchor": "x",
         "domain": [
          0,
          1
         ],
         "tickfont": {
          "size": 8.8
         },
         "title": {
          "text": "daily_deaths"
         }
        }
       }
      }
     },
     "metadata": {},
     "output_type": "display_data"
    }
   ],
   "source": [
    "# =========================================================\n",
    "# Seção 2: Boxplot para Moderate Restriction Countries\n",
    "# =========================================================\n",
    "fig_moderate = px.box(\n",
    "    moderate_top5_df,\n",
    "    x='country',\n",
    "    y='daily_deaths',\n",
    "    points='all',\n",
    "    title=\"Top 5 Moderate Restriction Countries by Deaths (Boxplot)\",\n",
    "    color_discrete_sequence=['#3381ff']\n",
    ")\n",
    "fig_moderate.update_layout(\n",
    "    template='plotly_white',\n",
    "    plot_bgcolor='white',\n",
    "    title_font_size=13.2,\n",
    "    font=dict(size=8.8),\n",
    "    xaxis=dict(tickfont=dict(size=8.8)),\n",
    "    yaxis=dict(tickfont=dict(size=8.8)),\n",
    "    width=600\n",
    ")\n",
    "fig_moderate.update_traces(\n",
    "    marker=dict(size=6, opacity=0.4, line=dict(width=1, color='black'))\n",
    ")\n",
    "fig_moderate.for_each_trace(lambda t: t.update(line=dict(width=0.65)))\n",
    "fig_moderate.show()"
   ]
  },
  {
   "cell_type": "markdown",
   "id": "a76a69b5",
   "metadata": {},
   "source": [
    "Although these countries share “moderate restriction” classification, their daily death patterns differ markedly. \n",
    "\n",
    "Brazil’s distribution extends far beyond those of the other nations, with spikes occasionally surpassing 4,000 deaths in a single day, suggesting intense surges despite not being in the “severe” category. \n",
    "\n",
    "Meanwhile, Germany’s boxplot shows a somewhat higher median than Indonesia, Mexico, and Russia, yet still falls well below Brazil’s peaks. The contrast underscores that policy stringency alone does not fully account for the scale or timing of outbreaks; factors like population demographics, healthcare capacity, and the timing of viral waves appear equally—if not more—consequential in shaping daily fatality trajectories. \n",
    "\n",
    "---\n"
   ]
  },
  {
   "cell_type": "code",
   "execution_count": 82,
   "id": "98befd9d",
   "metadata": {},
   "outputs": [
    {
     "data": {
      "application/vnd.plotly.v1+json": {
       "config": {
        "plotlyServerURL": "https://plot.ly"
       },
       "data": [
        {
         "alignmentgroup": "True",
         "boxpoints": "all",
         "hovertemplate": "country=%{x}<br>daily_deaths=%{y}<extra></extra>",
         "legendgroup": "",
         "line": {
          "width": 0.65
         },
         "marker": {
          "color": "#3381ff",
          "line": {
           "color": "black",
           "width": 1
          },
          "opacity": 0.4,
          "size": 6
         },
         "name": "",
         "notched": false,
         "offsetgroup": "",
         "orientation": "v",
         "showlegend": false,
         "type": "box",
         "x": [
          "Ecuador",
          "Ecuador",
          "Ecuador",
          "Ecuador",
          "Ecuador",
          "Ecuador",
          "Ecuador",
          "Ecuador",
          "Ecuador",
          "Ecuador",
          "Ecuador",
          "Ecuador",
          "Ecuador",
          "Ecuador",
          "Ecuador",
          "Ecuador",
          "Ecuador",
          "Ecuador",
          "Ecuador",
          "Ecuador",
          "Ecuador",
          "Ecuador",
          "Ecuador",
          "Ecuador",
          "Ecuador",
          "Ecuador",
          "Ecuador",
          "Ecuador",
          "Ecuador",
          "Ecuador",
          "Ecuador",
          "Ecuador",
          "Ecuador",
          "Ecuador",
          "Ecuador",
          "Ecuador",
          "Ecuador",
          "Ecuador",
          "Ecuador",
          "Ecuador",
          "Ecuador",
          "India",
          "India",
          "India",
          "India",
          "India",
          "India",
          "India",
          "India",
          "India",
          "India",
          "India",
          "India",
          "India",
          "India",
          "India",
          "India",
          "India",
          "India",
          "India",
          "India",
          "India",
          "India",
          "India",
          "India",
          "India",
          "India",
          "India",
          "India",
          "India",
          "India",
          "India",
          "India",
          "India",
          "India",
          "India",
          "India",
          "India",
          "India",
          "India",
          "India",
          "India",
          "Ireland",
          "Ireland",
          "Ireland",
          "Ireland",
          "Ireland",
          "Ireland",
          "Ireland",
          "Ireland",
          "Ireland",
          "Ireland",
          "Ireland",
          "Ireland",
          "Ireland",
          "Ireland",
          "Ireland",
          "Ireland",
          "Ireland",
          "Ireland",
          "Ireland",
          "Ireland",
          "Ireland",
          "Ireland",
          "Ireland",
          "Ireland",
          "Ireland",
          "Ireland",
          "Ireland",
          "Ireland",
          "Ireland",
          "Ireland",
          "Ireland",
          "Ireland",
          "Ireland",
          "Ireland",
          "Ireland",
          "Ireland",
          "Ireland",
          "Ireland",
          "Ireland",
          "Ireland",
          "Ireland",
          "Peru",
          "Peru",
          "Peru",
          "Peru",
          "Peru",
          "Peru",
          "Peru",
          "Peru",
          "Peru",
          "Peru",
          "Peru",
          "Peru",
          "Peru",
          "Peru",
          "Peru",
          "Peru",
          "Peru",
          "Peru",
          "Peru",
          "Peru",
          "Peru",
          "Peru",
          "Peru",
          "Peru",
          "Peru",
          "Peru",
          "Peru",
          "Peru",
          "Peru",
          "Peru",
          "Peru",
          "Peru",
          "Peru",
          "Peru",
          "Peru",
          "Peru",
          "Peru",
          "Peru",
          "Peru",
          "Peru",
          "Peru",
          "Portugal",
          "Portugal",
          "Portugal",
          "Portugal",
          "Portugal",
          "Portugal",
          "Portugal",
          "Portugal",
          "Portugal",
          "Portugal",
          "Portugal",
          "Portugal",
          "Portugal",
          "Portugal",
          "Portugal",
          "Portugal",
          "Portugal",
          "Portugal",
          "Portugal",
          "Portugal",
          "Portugal",
          "Portugal",
          "Portugal",
          "Portugal",
          "Portugal",
          "Portugal",
          "Portugal",
          "Portugal",
          "Portugal",
          "Portugal",
          "Portugal",
          "Portugal",
          "Portugal",
          "Portugal",
          "Portugal",
          "Portugal",
          "Portugal",
          "Portugal",
          "Portugal",
          "Portugal",
          "Portugal"
         ],
         "x0": " ",
         "xaxis": "x",
         "y": [
          0,
          0,
          2,
          0,
          0,
          0,
          0,
          1,
          2,
          2,
          7,
          4,
          9,
          1,
          6,
          2,
          12,
          10,
          2,
          15,
          18,
          27,
          25,
          27,
          8,
          11,
          0,
          51,
          30,
          25,
          18,
          18,
          22,
          14,
          19,
          15,
          18,
          35,
          18,
          33,
          13,
          0,
          0,
          1,
          0,
          1,
          1,
          0,
          3,
          3,
          0,
          2,
          8,
          0,
          4,
          3,
          5,
          3,
          23,
          14,
          0,
          14,
          13,
          37,
          14,
          28,
          48,
          20,
          42,
          43,
          27,
          35,
          12,
          43,
          38,
          35,
          38,
          33,
          53,
          36,
          40,
          59,
          0,
          0,
          1,
          0,
          0,
          0,
          0,
          1,
          0,
          0,
          1,
          2,
          1,
          2,
          10,
          3,
          14,
          10,
          8,
          17,
          14,
          13,
          22,
          17,
          21,
          16,
          36,
          25,
          28,
          24,
          33,
          14,
          31,
          41,
          38,
          42,
          44,
          41,
          39,
          77,
          43,
          1,
          0,
          0,
          0,
          1,
          0,
          0,
          2,
          0,
          4,
          6,
          5,
          6,
          4,
          4,
          5,
          6,
          12,
          6,
          8,
          15,
          9,
          18,
          25,
          23,
          22,
          26,
          49,
          59,
          43,
          63,
          48,
          98,
          81,
          103,
          93,
          106,
          109,
          139,
          133,
          157,
          0,
          0,
          0,
          0,
          0,
          0,
          0,
          0,
          0,
          1,
          1,
          1,
          3,
          6,
          2,
          9,
          10,
          10,
          17,
          16,
          24,
          19,
          21,
          20,
          27,
          22,
          37,
          20,
          29,
          16,
          34,
          35,
          29,
          26,
          35,
          34,
          31,
          32,
          32,
          30,
          28
         ],
         "y0": " ",
         "yaxis": "y"
        }
       ],
       "layout": {
        "boxmode": "group",
        "font": {
         "size": 8.8
        },
        "legend": {
         "tracegroupgap": 0
        },
        "plot_bgcolor": "white",
        "template": {
         "data": {
          "bar": [
           {
            "error_x": {
             "color": "#2a3f5f"
            },
            "error_y": {
             "color": "#2a3f5f"
            },
            "marker": {
             "line": {
              "color": "white",
              "width": 0.5
             },
             "pattern": {
              "fillmode": "overlay",
              "size": 10,
              "solidity": 0.2
             }
            },
            "type": "bar"
           }
          ],
          "barpolar": [
           {
            "marker": {
             "line": {
              "color": "white",
              "width": 0.5
             },
             "pattern": {
              "fillmode": "overlay",
              "size": 10,
              "solidity": 0.2
             }
            },
            "type": "barpolar"
           }
          ],
          "carpet": [
           {
            "aaxis": {
             "endlinecolor": "#2a3f5f",
             "gridcolor": "#C8D4E3",
             "linecolor": "#C8D4E3",
             "minorgridcolor": "#C8D4E3",
             "startlinecolor": "#2a3f5f"
            },
            "baxis": {
             "endlinecolor": "#2a3f5f",
             "gridcolor": "#C8D4E3",
             "linecolor": "#C8D4E3",
             "minorgridcolor": "#C8D4E3",
             "startlinecolor": "#2a3f5f"
            },
            "type": "carpet"
           }
          ],
          "choropleth": [
           {
            "colorbar": {
             "outlinewidth": 0,
             "ticks": ""
            },
            "type": "choropleth"
           }
          ],
          "contour": [
           {
            "colorbar": {
             "outlinewidth": 0,
             "ticks": ""
            },
            "colorscale": [
             [
              0,
              "#0d0887"
             ],
             [
              0.1111111111111111,
              "#46039f"
             ],
             [
              0.2222222222222222,
              "#7201a8"
             ],
             [
              0.3333333333333333,
              "#9c179e"
             ],
             [
              0.4444444444444444,
              "#bd3786"
             ],
             [
              0.5555555555555556,
              "#d8576b"
             ],
             [
              0.6666666666666666,
              "#ed7953"
             ],
             [
              0.7777777777777778,
              "#fb9f3a"
             ],
             [
              0.8888888888888888,
              "#fdca26"
             ],
             [
              1,
              "#f0f921"
             ]
            ],
            "type": "contour"
           }
          ],
          "contourcarpet": [
           {
            "colorbar": {
             "outlinewidth": 0,
             "ticks": ""
            },
            "type": "contourcarpet"
           }
          ],
          "heatmap": [
           {
            "colorbar": {
             "outlinewidth": 0,
             "ticks": ""
            },
            "colorscale": [
             [
              0,
              "#0d0887"
             ],
             [
              0.1111111111111111,
              "#46039f"
             ],
             [
              0.2222222222222222,
              "#7201a8"
             ],
             [
              0.3333333333333333,
              "#9c179e"
             ],
             [
              0.4444444444444444,
              "#bd3786"
             ],
             [
              0.5555555555555556,
              "#d8576b"
             ],
             [
              0.6666666666666666,
              "#ed7953"
             ],
             [
              0.7777777777777778,
              "#fb9f3a"
             ],
             [
              0.8888888888888888,
              "#fdca26"
             ],
             [
              1,
              "#f0f921"
             ]
            ],
            "type": "heatmap"
           }
          ],
          "heatmapgl": [
           {
            "colorbar": {
             "outlinewidth": 0,
             "ticks": ""
            },
            "colorscale": [
             [
              0,
              "#0d0887"
             ],
             [
              0.1111111111111111,
              "#46039f"
             ],
             [
              0.2222222222222222,
              "#7201a8"
             ],
             [
              0.3333333333333333,
              "#9c179e"
             ],
             [
              0.4444444444444444,
              "#bd3786"
             ],
             [
              0.5555555555555556,
              "#d8576b"
             ],
             [
              0.6666666666666666,
              "#ed7953"
             ],
             [
              0.7777777777777778,
              "#fb9f3a"
             ],
             [
              0.8888888888888888,
              "#fdca26"
             ],
             [
              1,
              "#f0f921"
             ]
            ],
            "type": "heatmapgl"
           }
          ],
          "histogram": [
           {
            "marker": {
             "pattern": {
              "fillmode": "overlay",
              "size": 10,
              "solidity": 0.2
             }
            },
            "type": "histogram"
           }
          ],
          "histogram2d": [
           {
            "colorbar": {
             "outlinewidth": 0,
             "ticks": ""
            },
            "colorscale": [
             [
              0,
              "#0d0887"
             ],
             [
              0.1111111111111111,
              "#46039f"
             ],
             [
              0.2222222222222222,
              "#7201a8"
             ],
             [
              0.3333333333333333,
              "#9c179e"
             ],
             [
              0.4444444444444444,
              "#bd3786"
             ],
             [
              0.5555555555555556,
              "#d8576b"
             ],
             [
              0.6666666666666666,
              "#ed7953"
             ],
             [
              0.7777777777777778,
              "#fb9f3a"
             ],
             [
              0.8888888888888888,
              "#fdca26"
             ],
             [
              1,
              "#f0f921"
             ]
            ],
            "type": "histogram2d"
           }
          ],
          "histogram2dcontour": [
           {
            "colorbar": {
             "outlinewidth": 0,
             "ticks": ""
            },
            "colorscale": [
             [
              0,
              "#0d0887"
             ],
             [
              0.1111111111111111,
              "#46039f"
             ],
             [
              0.2222222222222222,
              "#7201a8"
             ],
             [
              0.3333333333333333,
              "#9c179e"
             ],
             [
              0.4444444444444444,
              "#bd3786"
             ],
             [
              0.5555555555555556,
              "#d8576b"
             ],
             [
              0.6666666666666666,
              "#ed7953"
             ],
             [
              0.7777777777777778,
              "#fb9f3a"
             ],
             [
              0.8888888888888888,
              "#fdca26"
             ],
             [
              1,
              "#f0f921"
             ]
            ],
            "type": "histogram2dcontour"
           }
          ],
          "mesh3d": [
           {
            "colorbar": {
             "outlinewidth": 0,
             "ticks": ""
            },
            "type": "mesh3d"
           }
          ],
          "parcoords": [
           {
            "line": {
             "colorbar": {
              "outlinewidth": 0,
              "ticks": ""
             }
            },
            "type": "parcoords"
           }
          ],
          "pie": [
           {
            "automargin": true,
            "type": "pie"
           }
          ],
          "scatter": [
           {
            "fillpattern": {
             "fillmode": "overlay",
             "size": 10,
             "solidity": 0.2
            },
            "type": "scatter"
           }
          ],
          "scatter3d": [
           {
            "line": {
             "colorbar": {
              "outlinewidth": 0,
              "ticks": ""
             }
            },
            "marker": {
             "colorbar": {
              "outlinewidth": 0,
              "ticks": ""
             }
            },
            "type": "scatter3d"
           }
          ],
          "scattercarpet": [
           {
            "marker": {
             "colorbar": {
              "outlinewidth": 0,
              "ticks": ""
             }
            },
            "type": "scattercarpet"
           }
          ],
          "scattergeo": [
           {
            "marker": {
             "colorbar": {
              "outlinewidth": 0,
              "ticks": ""
             }
            },
            "type": "scattergeo"
           }
          ],
          "scattergl": [
           {
            "marker": {
             "colorbar": {
              "outlinewidth": 0,
              "ticks": ""
             }
            },
            "type": "scattergl"
           }
          ],
          "scattermapbox": [
           {
            "marker": {
             "colorbar": {
              "outlinewidth": 0,
              "ticks": ""
             }
            },
            "type": "scattermapbox"
           }
          ],
          "scatterpolar": [
           {
            "marker": {
             "colorbar": {
              "outlinewidth": 0,
              "ticks": ""
             }
            },
            "type": "scatterpolar"
           }
          ],
          "scatterpolargl": [
           {
            "marker": {
             "colorbar": {
              "outlinewidth": 0,
              "ticks": ""
             }
            },
            "type": "scatterpolargl"
           }
          ],
          "scatterternary": [
           {
            "marker": {
             "colorbar": {
              "outlinewidth": 0,
              "ticks": ""
             }
            },
            "type": "scatterternary"
           }
          ],
          "surface": [
           {
            "colorbar": {
             "outlinewidth": 0,
             "ticks": ""
            },
            "colorscale": [
             [
              0,
              "#0d0887"
             ],
             [
              0.1111111111111111,
              "#46039f"
             ],
             [
              0.2222222222222222,
              "#7201a8"
             ],
             [
              0.3333333333333333,
              "#9c179e"
             ],
             [
              0.4444444444444444,
              "#bd3786"
             ],
             [
              0.5555555555555556,
              "#d8576b"
             ],
             [
              0.6666666666666666,
              "#ed7953"
             ],
             [
              0.7777777777777778,
              "#fb9f3a"
             ],
             [
              0.8888888888888888,
              "#fdca26"
             ],
             [
              1,
              "#f0f921"
             ]
            ],
            "type": "surface"
           }
          ],
          "table": [
           {
            "cells": {
             "fill": {
              "color": "#EBF0F8"
             },
             "line": {
              "color": "white"
             }
            },
            "header": {
             "fill": {
              "color": "#C8D4E3"
             },
             "line": {
              "color": "white"
             }
            },
            "type": "table"
           }
          ]
         },
         "layout": {
          "annotationdefaults": {
           "arrowcolor": "#2a3f5f",
           "arrowhead": 0,
           "arrowwidth": 1
          },
          "autotypenumbers": "strict",
          "coloraxis": {
           "colorbar": {
            "outlinewidth": 0,
            "ticks": ""
           }
          },
          "colorscale": {
           "diverging": [
            [
             0,
             "#8e0152"
            ],
            [
             0.1,
             "#c51b7d"
            ],
            [
             0.2,
             "#de77ae"
            ],
            [
             0.3,
             "#f1b6da"
            ],
            [
             0.4,
             "#fde0ef"
            ],
            [
             0.5,
             "#f7f7f7"
            ],
            [
             0.6,
             "#e6f5d0"
            ],
            [
             0.7,
             "#b8e186"
            ],
            [
             0.8,
             "#7fbc41"
            ],
            [
             0.9,
             "#4d9221"
            ],
            [
             1,
             "#276419"
            ]
           ],
           "sequential": [
            [
             0,
             "#0d0887"
            ],
            [
             0.1111111111111111,
             "#46039f"
            ],
            [
             0.2222222222222222,
             "#7201a8"
            ],
            [
             0.3333333333333333,
             "#9c179e"
            ],
            [
             0.4444444444444444,
             "#bd3786"
            ],
            [
             0.5555555555555556,
             "#d8576b"
            ],
            [
             0.6666666666666666,
             "#ed7953"
            ],
            [
             0.7777777777777778,
             "#fb9f3a"
            ],
            [
             0.8888888888888888,
             "#fdca26"
            ],
            [
             1,
             "#f0f921"
            ]
           ],
           "sequentialminus": [
            [
             0,
             "#0d0887"
            ],
            [
             0.1111111111111111,
             "#46039f"
            ],
            [
             0.2222222222222222,
             "#7201a8"
            ],
            [
             0.3333333333333333,
             "#9c179e"
            ],
            [
             0.4444444444444444,
             "#bd3786"
            ],
            [
             0.5555555555555556,
             "#d8576b"
            ],
            [
             0.6666666666666666,
             "#ed7953"
            ],
            [
             0.7777777777777778,
             "#fb9f3a"
            ],
            [
             0.8888888888888888,
             "#fdca26"
            ],
            [
             1,
             "#f0f921"
            ]
           ]
          },
          "colorway": [
           "#636efa",
           "#EF553B",
           "#00cc96",
           "#ab63fa",
           "#FFA15A",
           "#19d3f3",
           "#FF6692",
           "#B6E880",
           "#FF97FF",
           "#FECB52"
          ],
          "font": {
           "color": "#2a3f5f"
          },
          "geo": {
           "bgcolor": "white",
           "lakecolor": "white",
           "landcolor": "white",
           "showlakes": true,
           "showland": true,
           "subunitcolor": "#C8D4E3"
          },
          "hoverlabel": {
           "align": "left"
          },
          "hovermode": "closest",
          "mapbox": {
           "style": "light"
          },
          "paper_bgcolor": "white",
          "plot_bgcolor": "white",
          "polar": {
           "angularaxis": {
            "gridcolor": "#EBF0F8",
            "linecolor": "#EBF0F8",
            "ticks": ""
           },
           "bgcolor": "white",
           "radialaxis": {
            "gridcolor": "#EBF0F8",
            "linecolor": "#EBF0F8",
            "ticks": ""
           }
          },
          "scene": {
           "xaxis": {
            "backgroundcolor": "white",
            "gridcolor": "#DFE8F3",
            "gridwidth": 2,
            "linecolor": "#EBF0F8",
            "showbackground": true,
            "ticks": "",
            "zerolinecolor": "#EBF0F8"
           },
           "yaxis": {
            "backgroundcolor": "white",
            "gridcolor": "#DFE8F3",
            "gridwidth": 2,
            "linecolor": "#EBF0F8",
            "showbackground": true,
            "ticks": "",
            "zerolinecolor": "#EBF0F8"
           },
           "zaxis": {
            "backgroundcolor": "white",
            "gridcolor": "#DFE8F3",
            "gridwidth": 2,
            "linecolor": "#EBF0F8",
            "showbackground": true,
            "ticks": "",
            "zerolinecolor": "#EBF0F8"
           }
          },
          "shapedefaults": {
           "line": {
            "color": "#2a3f5f"
           }
          },
          "ternary": {
           "aaxis": {
            "gridcolor": "#DFE8F3",
            "linecolor": "#A2B1C6",
            "ticks": ""
           },
           "baxis": {
            "gridcolor": "#DFE8F3",
            "linecolor": "#A2B1C6",
            "ticks": ""
           },
           "bgcolor": "white",
           "caxis": {
            "gridcolor": "#DFE8F3",
            "linecolor": "#A2B1C6",
            "ticks": ""
           }
          },
          "title": {
           "x": 0.05
          },
          "xaxis": {
           "automargin": true,
           "gridcolor": "#EBF0F8",
           "linecolor": "#EBF0F8",
           "ticks": "",
           "title": {
            "standoff": 15
           },
           "zerolinecolor": "#EBF0F8",
           "zerolinewidth": 2
          },
          "yaxis": {
           "automargin": true,
           "gridcolor": "#EBF0F8",
           "linecolor": "#EBF0F8",
           "ticks": "",
           "title": {
            "standoff": 15
           },
           "zerolinecolor": "#EBF0F8",
           "zerolinewidth": 2
          }
         }
        },
        "title": {
         "font": {
          "size": 13.2
         },
         "text": "Top 5 Severe Restriction Countries by Deaths (Boxplot)"
        },
        "width": 600,
        "xaxis": {
         "anchor": "y",
         "domain": [
          0,
          1
         ],
         "tickfont": {
          "size": 8.8
         },
         "title": {
          "text": "country"
         }
        },
        "yaxis": {
         "anchor": "x",
         "domain": [
          0,
          1
         ],
         "tickfont": {
          "size": 8.8
         },
         "title": {
          "text": "daily_deaths"
         }
        }
       }
      }
     },
     "metadata": {},
     "output_type": "display_data"
    }
   ],
   "source": [
    "fig_severe = px.box(\n",
    "    severe_top5_df,\n",
    "    x='country',\n",
    "    y='daily_deaths',\n",
    "    points='all',\n",
    "    title=\"Top 5 Severe Restriction Countries by Deaths (Boxplot)\",\n",
    "    color_discrete_sequence=['#3381ff']\n",
    ")\n",
    "fig_severe.update_layout(\n",
    "    template='plotly_white',\n",
    "    plot_bgcolor='white',\n",
    "    title_font_size=13.2,\n",
    "    font=dict(size=8.8),\n",
    "    xaxis=dict(tickfont=dict(size=8.8)),\n",
    "    yaxis=dict(tickfont=dict(size=8.8)),\n",
    "    width=600\n",
    ")\n",
    "fig_severe.update_traces(\n",
    "    marker=dict(size=6, opacity=0.4, line=dict(width=1, color='black'))\n",
    ")\n",
    "fig_severe.for_each_trace(lambda t: t.update(line=dict(width=0.65)))\n",
    "fig_severe.show()"
   ]
  },
  {
   "cell_type": "markdown",
   "id": "dc218023",
   "metadata": {},
   "source": [
    "Among the severe countries, India experienced very high daily death counts—often exceeding 6,000—which strongly suggests that a massive population and limited healthcare resources overwhelmed strict measures. \n",
    "\n",
    "Peru and Poland recorded notably lower peaks, indicating that timely interventions or favorable local conditions effectively moderated the impact. These observations suggest that while stringent policies are essential, their effectiveness ultimately depends on a complex interplay of demographic, infrastructural, and contextual factors.\n",
    "\n",
    "---\n",
    "\n"
   ]
  },
  {
   "cell_type": "markdown",
   "id": "a00a2e5e",
   "metadata": {},
   "source": [
    "### **Trend Analysis:**\n"
   ]
  },
  {
   "cell_type": "markdown",
   "id": "ac37374c",
   "metadata": {},
   "source": [
    "Analyzing the death patterns over time can provide valuable insights into the pandemic's progression within each category."
   ]
  },
  {
   "cell_type": "code",
   "execution_count": 83,
   "id": "a645e9de",
   "metadata": {},
   "outputs": [
    {
     "data": {
      "image/png": "[encoded data removed]",
      "text/plain": [
       "<Figure size 800x1200 with 1 Axes>"
      ]
     },
     "metadata": {},
     "output_type": "display_data"
    }
   ],
   "source": [
    "plt.figure(figsize=(8, 12))\n",
    "sns.lineplot(data=low_df, x='date', y='deaths', hue='country')\n",
    "plt.title('Fatalities Over Time (Low Mobility Restriction Countries)')\n",
    "plt.xlabel('Date')\n",
    "plt.ylabel('Total Fatalities')\n",
    "plt.legend(loc='upper left', fontsize='small', ncol=1)\n",
    "plt.show()"
   ]
  },
  {
   "cell_type": "code",
   "execution_count": 84,
   "id": "342b0e83",
   "metadata": {},
   "outputs": [
    {
     "data": {
      "image/png": "[encoded data removed]",
      "text/plain": [
       "<Figure size 900x1200 with 1 Axes>"
      ]
     },
     "metadata": {},
     "output_type": "display_data"
    }
   ],
   "source": [
    "plt.figure(figsize=(9, 12))\n",
    "sns.lineplot(data=moderate_df, x='date', y='deaths', hue='country')\n",
    "plt.title('Fatalities Over Time (Moderate Mobility Restriction Countries)')\n",
    "plt.xlabel('Date')\n",
    "plt.ylabel('Total Fatalities')\n",
    "plt.legend(loc='upper left', fontsize='small', ncol=2)\n",
    "plt.show()"
   ]
  },
  {
   "cell_type": "code",
   "execution_count": 85,
   "id": "d617d7f7",
   "metadata": {},
   "outputs": [
    {
     "data": {
      "image/png": "[encoded data removed]",
      "text/plain": [
       "<Figure size 1200x1200 with 1 Axes>"
      ]
     },
     "metadata": {},
     "output_type": "display_data"
    }
   ],
   "source": [
    "plt.figure(figsize=(12, 12))\n",
    "sns.lineplot(data=severe_df, x='date', y='deaths', hue='country')\n",
    "plt.title('Fatalities Over Time (Severe Mobility Restriction Countries)')\n",
    "plt.xlabel('Date')\n",
    "plt.ylabel('Total Fatalities')\n",
    "plt.legend(loc='upper left', fontsize='small', ncol=2)\n",
    "plt.show()"
   ]
  },
  {
   "cell_type": "markdown",
   "id": "74c0593d",
   "metadata": {},
   "source": [
    "When comparing all three groups—low, moderate, and severe mobility restriction countries—it's clear that reported fatality trends vary dramatically, even within the same category. \n",
    "\n",
    "In some cases (e.g., Western European nations), steep and sustained climbs in fatalities suggest either larger outbreaks, more accurate reporting, or both. Meanwhile, several African and Asian countries show relatively flat lines, which could indicate genuinely low death tolls or, more likely, limited testing and inconsistent data collection. \n",
    "\n",
    "This discrepancy highlights how incomplete information can mask the true severity of the pandemic, making direct comparisons across nations and restriction categories challenging. Even so, the stark contrasts in these curves emphasize that policy strictness alone does not fully account for a country's pandemic trajectory; differences in healthcare capacity, population density, and data reliability also play key roles.\n",
    "\n",
    "---\n"
   ]
  },
  {
   "cell_type": "markdown",
   "id": "b396d955",
   "metadata": {},
   "source": [
    "## **Reshaping the Data**\n",
    "\n",
    "Now we need to reshape the dataset into a nice matrix form in order of modelling synthetic interventions"
   ]
  },
  {
   "cell_type": "code",
   "execution_count": 86,
   "id": "badf855a",
   "metadata": {},
   "outputs": [
    {
     "data": {
      "text/html": [
       "<div>\n",
       "<style scoped>\n",
       "    .dataframe tbody tr th:only-of-type {\n",
       "        vertical-align: middle;\n",
       "    }\n",
       "\n",
       "    .dataframe tbody tr th {\n",
       "        vertical-align: top;\n",
       "    }\n",
       "\n",
       "    .dataframe thead th {\n",
       "        text-align: right;\n",
       "    }\n",
       "</style>\n",
       "<table border=\"1\" class=\"dataframe\">\n",
       "  <thead>\n",
       "    <tr style=\"text-align: right;\">\n",
       "      <th></th>\n",
       "      <th>country</th>\n",
       "      <th>date</th>\n",
       "      <th>deaths</th>\n",
       "      <th>daily_deaths</th>\n",
       "      <th>post-intervention</th>\n",
       "      <th>t0_date</th>\n",
       "      <th>t</th>\n",
       "    </tr>\n",
       "  </thead>\n",
       "  <tbody>\n",
       "    <tr>\n",
       "      <th>84</th>\n",
       "      <td>Afghanistan</td>\n",
       "      <td>2020-04-16</td>\n",
       "      <td>29</td>\n",
       "      <td>4.0</td>\n",
       "      <td>False</td>\n",
       "      <td>2020-05-06</td>\n",
       "      <td>-20.0</td>\n",
       "    </tr>\n",
       "    <tr>\n",
       "      <th>85</th>\n",
       "      <td>Afghanistan</td>\n",
       "      <td>2020-04-17</td>\n",
       "      <td>30</td>\n",
       "      <td>1.0</td>\n",
       "      <td>False</td>\n",
       "      <td>2020-05-06</td>\n",
       "      <td>-19.0</td>\n",
       "    </tr>\n",
       "    <tr>\n",
       "      <th>86</th>\n",
       "      <td>Afghanistan</td>\n",
       "      <td>2020-04-18</td>\n",
       "      <td>30</td>\n",
       "      <td>0.0</td>\n",
       "      <td>False</td>\n",
       "      <td>2020-05-06</td>\n",
       "      <td>-18.0</td>\n",
       "    </tr>\n",
       "    <tr>\n",
       "      <th>87</th>\n",
       "      <td>Afghanistan</td>\n",
       "      <td>2020-04-19</td>\n",
       "      <td>30</td>\n",
       "      <td>0.0</td>\n",
       "      <td>False</td>\n",
       "      <td>2020-05-06</td>\n",
       "      <td>-17.0</td>\n",
       "    </tr>\n",
       "    <tr>\n",
       "      <th>88</th>\n",
       "      <td>Afghanistan</td>\n",
       "      <td>2020-04-20</td>\n",
       "      <td>33</td>\n",
       "      <td>3.0</td>\n",
       "      <td>False</td>\n",
       "      <td>2020-05-06</td>\n",
       "      <td>-16.0</td>\n",
       "    </tr>\n",
       "  </tbody>\n",
       "</table>\n",
       "</div>"
      ],
      "text/plain": [
       "        country       date  deaths  daily_deaths  post-intervention  \\\n",
       "84  Afghanistan 2020-04-16      29           4.0              False   \n",
       "85  Afghanistan 2020-04-17      30           1.0              False   \n",
       "86  Afghanistan 2020-04-18      30           0.0              False   \n",
       "87  Afghanistan 2020-04-19      30           0.0              False   \n",
       "88  Afghanistan 2020-04-20      33           3.0              False   \n",
       "\n",
       "      t0_date     t  \n",
       "84 2020-05-06 -20.0  \n",
       "85 2020-05-06 -19.0  \n",
       "86 2020-05-06 -18.0  \n",
       "87 2020-05-06 -17.0  \n",
       "88 2020-05-06 -16.0  "
      ]
     },
     "execution_count": 86,
     "metadata": {},
     "output_type": "execute_result"
    }
   ],
   "source": [
    "covid_df['date'] = pd.to_datetime(covid_df['date'], format='%m/%d/%y') ## Converting the dates into a datetime object in Pandas\n",
    "\n",
    "covid_df.head()"
   ]
  },
  {
   "cell_type": "code",
   "execution_count": 87,
   "id": "ba5f842b",
   "metadata": {},
   "outputs": [
    {
     "data": {
      "text/html": [
       "<div>\n",
       "<style scoped>\n",
       "    .dataframe tbody tr th:only-of-type {\n",
       "        vertical-align: middle;\n",
       "    }\n",
       "\n",
       "    .dataframe tbody tr th {\n",
       "        vertical-align: top;\n",
       "    }\n",
       "\n",
       "    .dataframe thead th {\n",
       "        text-align: right;\n",
       "    }\n",
       "</style>\n",
       "<table border=\"1\" class=\"dataframe\">\n",
       "  <thead>\n",
       "    <tr style=\"text-align: right;\">\n",
       "      <th>t</th>\n",
       "      <th>country</th>\n",
       "      <th>-20.0</th>\n",
       "      <th>-19.0</th>\n",
       "      <th>-18.0</th>\n",
       "      <th>-17.0</th>\n",
       "      <th>-16.0</th>\n",
       "      <th>-15.0</th>\n",
       "      <th>-14.0</th>\n",
       "      <th>-13.0</th>\n",
       "      <th>-12.0</th>\n",
       "      <th>...</th>\n",
       "      <th>11.0</th>\n",
       "      <th>12.0</th>\n",
       "      <th>13.0</th>\n",
       "      <th>14.0</th>\n",
       "      <th>15.0</th>\n",
       "      <th>16.0</th>\n",
       "      <th>17.0</th>\n",
       "      <th>18.0</th>\n",
       "      <th>19.0</th>\n",
       "      <th>20.0</th>\n",
       "    </tr>\n",
       "  </thead>\n",
       "  <tbody>\n",
       "    <tr>\n",
       "      <th>0</th>\n",
       "      <td>Afghanistan</td>\n",
       "      <td>4.0</td>\n",
       "      <td>1.0</td>\n",
       "      <td>0.0</td>\n",
       "      <td>0.0</td>\n",
       "      <td>3.0</td>\n",
       "      <td>3.0</td>\n",
       "      <td>0.0</td>\n",
       "      <td>4.0</td>\n",
       "      <td>0.0</td>\n",
       "      <td>...</td>\n",
       "      <td>1.0</td>\n",
       "      <td>4.0</td>\n",
       "      <td>4.0</td>\n",
       "      <td>10.0</td>\n",
       "      <td>6.0</td>\n",
       "      <td>12.0</td>\n",
       "      <td>10.0</td>\n",
       "      <td>7.0</td>\n",
       "      <td>1.0</td>\n",
       "      <td>1.0</td>\n",
       "    </tr>\n",
       "    <tr>\n",
       "      <th>1</th>\n",
       "      <td>Albania</td>\n",
       "      <td>1.0</td>\n",
       "      <td>1.0</td>\n",
       "      <td>3.0</td>\n",
       "      <td>1.0</td>\n",
       "      <td>1.0</td>\n",
       "      <td>0.0</td>\n",
       "      <td>1.0</td>\n",
       "      <td>2.0</td>\n",
       "      <td>2.0</td>\n",
       "      <td>...</td>\n",
       "      <td>4.0</td>\n",
       "      <td>1.0</td>\n",
       "      <td>1.0</td>\n",
       "      <td>4.0</td>\n",
       "      <td>3.0</td>\n",
       "      <td>3.0</td>\n",
       "      <td>5.0</td>\n",
       "      <td>6.0</td>\n",
       "      <td>4.0</td>\n",
       "      <td>6.0</td>\n",
       "    </tr>\n",
       "    <tr>\n",
       "      <th>2</th>\n",
       "      <td>Algeria</td>\n",
       "      <td>1.0</td>\n",
       "      <td>1.0</td>\n",
       "      <td>1.0</td>\n",
       "      <td>0.0</td>\n",
       "      <td>0.0</td>\n",
       "      <td>3.0</td>\n",
       "      <td>2.0</td>\n",
       "      <td>2.0</td>\n",
       "      <td>4.0</td>\n",
       "      <td>...</td>\n",
       "      <td>20.0</td>\n",
       "      <td>13.0</td>\n",
       "      <td>10.0</td>\n",
       "      <td>12.0</td>\n",
       "      <td>16.0</td>\n",
       "      <td>3.0</td>\n",
       "      <td>8.0</td>\n",
       "      <td>9.0</td>\n",
       "      <td>8.0</td>\n",
       "      <td>10.0</td>\n",
       "    </tr>\n",
       "    <tr>\n",
       "      <th>3</th>\n",
       "      <td>Andorra</td>\n",
       "      <td>0.0</td>\n",
       "      <td>0.0</td>\n",
       "      <td>0.0</td>\n",
       "      <td>0.0</td>\n",
       "      <td>0.0</td>\n",
       "      <td>1.0</td>\n",
       "      <td>0.0</td>\n",
       "      <td>1.0</td>\n",
       "      <td>0.0</td>\n",
       "      <td>...</td>\n",
       "      <td>1.0</td>\n",
       "      <td>0.0</td>\n",
       "      <td>0.0</td>\n",
       "      <td>0.0</td>\n",
       "      <td>0.0</td>\n",
       "      <td>0.0</td>\n",
       "      <td>0.0</td>\n",
       "      <td>0.0</td>\n",
       "      <td>0.0</td>\n",
       "      <td>0.0</td>\n",
       "    </tr>\n",
       "    <tr>\n",
       "      <th>4</th>\n",
       "      <td>Angola</td>\n",
       "      <td>3.0</td>\n",
       "      <td>0.0</td>\n",
       "      <td>2.0</td>\n",
       "      <td>4.0</td>\n",
       "      <td>1.0</td>\n",
       "      <td>1.0</td>\n",
       "      <td>6.0</td>\n",
       "      <td>1.0</td>\n",
       "      <td>3.0</td>\n",
       "      <td>...</td>\n",
       "      <td>0.0</td>\n",
       "      <td>2.0</td>\n",
       "      <td>4.0</td>\n",
       "      <td>2.0</td>\n",
       "      <td>1.0</td>\n",
       "      <td>2.0</td>\n",
       "      <td>1.0</td>\n",
       "      <td>1.0</td>\n",
       "      <td>0.0</td>\n",
       "      <td>1.0</td>\n",
       "    </tr>\n",
       "  </tbody>\n",
       "</table>\n",
       "<p>5 rows × 42 columns</p>\n",
       "</div>"
      ],
      "text/plain": [
       "t      country  -20.0  -19.0  -18.0  -17.0  -16.0  -15.0  -14.0  -13.0  -12.0  \\\n",
       "0  Afghanistan    4.0    1.0    0.0    0.0    3.0    3.0    0.0    4.0    0.0   \n",
       "1      Albania    1.0    1.0    3.0    1.0    1.0    0.0    1.0    2.0    2.0   \n",
       "2      Algeria    1.0    1.0    1.0    0.0    0.0    3.0    2.0    2.0    4.0   \n",
       "3      Andorra    0.0    0.0    0.0    0.0    0.0    1.0    0.0    1.0    0.0   \n",
       "4       Angola    3.0    0.0    2.0    4.0    1.0    1.0    6.0    1.0    3.0   \n",
       "\n",
       "t  ...  11.0  12.0  13.0  14.0  15.0  16.0  17.0  18.0  19.0  20.0  \n",
       "0  ...   1.0   4.0   4.0  10.0   6.0  12.0  10.0   7.0   1.0   1.0  \n",
       "1  ...   4.0   1.0   1.0   4.0   3.0   3.0   5.0   6.0   4.0   6.0  \n",
       "2  ...  20.0  13.0  10.0  12.0  16.0   3.0   8.0   9.0   8.0  10.0  \n",
       "3  ...   1.0   0.0   0.0   0.0   0.0   0.0   0.0   0.0   0.0   0.0  \n",
       "4  ...   0.0   2.0   4.0   2.0   1.0   2.0   1.0   1.0   0.0   1.0  \n",
       "\n",
       "[5 rows x 42 columns]"
      ]
     },
     "execution_count": 87,
     "metadata": {},
     "output_type": "execute_result"
    }
   ],
   "source": [
    "covid_df = covid_df[['country', 'daily_deaths', 't']]\\\n",
    "        .pivot(index='country', columns='t', values='daily_deaths').reset_index()\n",
    "\n",
    "covid_df.head()"
   ]
  },
  {
   "cell_type": "markdown",
   "id": "9f05a382",
   "metadata": {},
   "source": [
    "# **Synthetic Interventions**"
   ]
  },
  {
   "cell_type": "markdown",
   "id": "5a801f8b",
   "metadata": {},
   "source": [
    "Now we'll apply the \"Synthetic Interventions\" method to estimate the severe counterfactual outcome for COVID-19 fatalities in Brazil.\n",
    "\n",
    "From our data, we know that Brazil had moderated mobility restrictions (around 27% reduction compared to pre-2020 levels) by the time of the 80th national death:"
   ]
  },
  {
   "cell_type": "code",
   "execution_count": 88,
   "id": "7da15cea",
   "metadata": {},
   "outputs": [
    {
     "name": "stdout",
     "output_type": "stream",
     "text": [
      "True\n"
     ]
    }
   ],
   "source": [
    "country_of_interest = \"Brazil\"\n",
    "print(country_of_interest in moderate_countries) # confirm that the Brazil had moderate intervention"
   ]
  },
  {
   "cell_type": "markdown",
   "id": "0116b52e",
   "metadata": {},
   "source": [
    "## **Isolate the data of countries which did enact a severe mobility restriction**"
   ]
  },
  {
   "cell_type": "code",
   "execution_count": 89,
   "id": "b191a0e8",
   "metadata": {},
   "outputs": [
    {
     "data": {
      "text/html": [
       "<div>\n",
       "<style scoped>\n",
       "    .dataframe tbody tr th:only-of-type {\n",
       "        vertical-align: middle;\n",
       "    }\n",
       "\n",
       "    .dataframe tbody tr th {\n",
       "        vertical-align: top;\n",
       "    }\n",
       "\n",
       "    .dataframe thead th {\n",
       "        text-align: right;\n",
       "    }\n",
       "</style>\n",
       "<table border=\"1\" class=\"dataframe\">\n",
       "  <thead>\n",
       "    <tr style=\"text-align: right;\">\n",
       "      <th>t</th>\n",
       "      <th>country</th>\n",
       "      <th>-20.0</th>\n",
       "      <th>-19.0</th>\n",
       "      <th>-18.0</th>\n",
       "      <th>-17.0</th>\n",
       "      <th>-16.0</th>\n",
       "      <th>-15.0</th>\n",
       "      <th>-14.0</th>\n",
       "      <th>-13.0</th>\n",
       "      <th>-12.0</th>\n",
       "      <th>...</th>\n",
       "      <th>11.0</th>\n",
       "      <th>12.0</th>\n",
       "      <th>13.0</th>\n",
       "      <th>14.0</th>\n",
       "      <th>15.0</th>\n",
       "      <th>16.0</th>\n",
       "      <th>17.0</th>\n",
       "      <th>18.0</th>\n",
       "      <th>19.0</th>\n",
       "      <th>20.0</th>\n",
       "    </tr>\n",
       "  </thead>\n",
       "  <tbody>\n",
       "    <tr>\n",
       "      <th>0</th>\n",
       "      <td>Afghanistan</td>\n",
       "      <td>4.0</td>\n",
       "      <td>1.0</td>\n",
       "      <td>0.0</td>\n",
       "      <td>0.0</td>\n",
       "      <td>3.0</td>\n",
       "      <td>3.0</td>\n",
       "      <td>0.0</td>\n",
       "      <td>4.0</td>\n",
       "      <td>0.0</td>\n",
       "      <td>...</td>\n",
       "      <td>1.0</td>\n",
       "      <td>4.0</td>\n",
       "      <td>4.0</td>\n",
       "      <td>10.0</td>\n",
       "      <td>6.0</td>\n",
       "      <td>12.0</td>\n",
       "      <td>10.0</td>\n",
       "      <td>7.0</td>\n",
       "      <td>1.0</td>\n",
       "      <td>1.0</td>\n",
       "    </tr>\n",
       "    <tr>\n",
       "      <th>1</th>\n",
       "      <td>Albania</td>\n",
       "      <td>1.0</td>\n",
       "      <td>1.0</td>\n",
       "      <td>3.0</td>\n",
       "      <td>1.0</td>\n",
       "      <td>1.0</td>\n",
       "      <td>0.0</td>\n",
       "      <td>1.0</td>\n",
       "      <td>2.0</td>\n",
       "      <td>2.0</td>\n",
       "      <td>...</td>\n",
       "      <td>4.0</td>\n",
       "      <td>1.0</td>\n",
       "      <td>1.0</td>\n",
       "      <td>4.0</td>\n",
       "      <td>3.0</td>\n",
       "      <td>3.0</td>\n",
       "      <td>5.0</td>\n",
       "      <td>6.0</td>\n",
       "      <td>4.0</td>\n",
       "      <td>6.0</td>\n",
       "    </tr>\n",
       "    <tr>\n",
       "      <th>2</th>\n",
       "      <td>Algeria</td>\n",
       "      <td>1.0</td>\n",
       "      <td>1.0</td>\n",
       "      <td>1.0</td>\n",
       "      <td>0.0</td>\n",
       "      <td>0.0</td>\n",
       "      <td>3.0</td>\n",
       "      <td>2.0</td>\n",
       "      <td>2.0</td>\n",
       "      <td>4.0</td>\n",
       "      <td>...</td>\n",
       "      <td>20.0</td>\n",
       "      <td>13.0</td>\n",
       "      <td>10.0</td>\n",
       "      <td>12.0</td>\n",
       "      <td>16.0</td>\n",
       "      <td>3.0</td>\n",
       "      <td>8.0</td>\n",
       "      <td>9.0</td>\n",
       "      <td>8.0</td>\n",
       "      <td>10.0</td>\n",
       "    </tr>\n",
       "    <tr>\n",
       "      <th>3</th>\n",
       "      <td>Andorra</td>\n",
       "      <td>0.0</td>\n",
       "      <td>0.0</td>\n",
       "      <td>0.0</td>\n",
       "      <td>0.0</td>\n",
       "      <td>0.0</td>\n",
       "      <td>1.0</td>\n",
       "      <td>0.0</td>\n",
       "      <td>1.0</td>\n",
       "      <td>0.0</td>\n",
       "      <td>...</td>\n",
       "      <td>1.0</td>\n",
       "      <td>0.0</td>\n",
       "      <td>0.0</td>\n",
       "      <td>0.0</td>\n",
       "      <td>0.0</td>\n",
       "      <td>0.0</td>\n",
       "      <td>0.0</td>\n",
       "      <td>0.0</td>\n",
       "      <td>0.0</td>\n",
       "      <td>0.0</td>\n",
       "    </tr>\n",
       "    <tr>\n",
       "      <th>4</th>\n",
       "      <td>Angola</td>\n",
       "      <td>3.0</td>\n",
       "      <td>0.0</td>\n",
       "      <td>2.0</td>\n",
       "      <td>4.0</td>\n",
       "      <td>1.0</td>\n",
       "      <td>1.0</td>\n",
       "      <td>6.0</td>\n",
       "      <td>1.0</td>\n",
       "      <td>3.0</td>\n",
       "      <td>...</td>\n",
       "      <td>0.0</td>\n",
       "      <td>2.0</td>\n",
       "      <td>4.0</td>\n",
       "      <td>2.0</td>\n",
       "      <td>1.0</td>\n",
       "      <td>2.0</td>\n",
       "      <td>1.0</td>\n",
       "      <td>1.0</td>\n",
       "      <td>0.0</td>\n",
       "      <td>1.0</td>\n",
       "    </tr>\n",
       "    <tr>\n",
       "      <th>...</th>\n",
       "      <td>...</td>\n",
       "      <td>...</td>\n",
       "      <td>...</td>\n",
       "      <td>...</td>\n",
       "      <td>...</td>\n",
       "      <td>...</td>\n",
       "      <td>...</td>\n",
       "      <td>...</td>\n",
       "      <td>...</td>\n",
       "      <td>...</td>\n",
       "      <td>...</td>\n",
       "      <td>...</td>\n",
       "      <td>...</td>\n",
       "      <td>...</td>\n",
       "      <td>...</td>\n",
       "      <td>...</td>\n",
       "      <td>...</td>\n",
       "      <td>...</td>\n",
       "      <td>...</td>\n",
       "      <td>...</td>\n",
       "      <td>...</td>\n",
       "    </tr>\n",
       "    <tr>\n",
       "      <th>174</th>\n",
       "      <td>Vietnam</td>\n",
       "      <td>0.0</td>\n",
       "      <td>0.0</td>\n",
       "      <td>2.0</td>\n",
       "      <td>1.0</td>\n",
       "      <td>1.0</td>\n",
       "      <td>0.0</td>\n",
       "      <td>2.0</td>\n",
       "      <td>0.0</td>\n",
       "      <td>0.0</td>\n",
       "      <td>...</td>\n",
       "      <td>2.0</td>\n",
       "      <td>7.0</td>\n",
       "      <td>6.0</td>\n",
       "      <td>7.0</td>\n",
       "      <td>6.0</td>\n",
       "      <td>69.0</td>\n",
       "      <td>18.0</td>\n",
       "      <td>0.0</td>\n",
       "      <td>29.0</td>\n",
       "      <td>80.0</td>\n",
       "    </tr>\n",
       "    <tr>\n",
       "      <th>175</th>\n",
       "      <td>West Bank and Gaza</td>\n",
       "      <td>4.0</td>\n",
       "      <td>3.0</td>\n",
       "      <td>6.0</td>\n",
       "      <td>3.0</td>\n",
       "      <td>3.0</td>\n",
       "      <td>5.0</td>\n",
       "      <td>0.0</td>\n",
       "      <td>7.0</td>\n",
       "      <td>2.0</td>\n",
       "      <td>...</td>\n",
       "      <td>1.0</td>\n",
       "      <td>3.0</td>\n",
       "      <td>4.0</td>\n",
       "      <td>1.0</td>\n",
       "      <td>1.0</td>\n",
       "      <td>0.0</td>\n",
       "      <td>2.0</td>\n",
       "      <td>2.0</td>\n",
       "      <td>3.0</td>\n",
       "      <td>0.0</td>\n",
       "    </tr>\n",
       "    <tr>\n",
       "      <th>176</th>\n",
       "      <td>Yemen</td>\n",
       "      <td>1.0</td>\n",
       "      <td>1.0</td>\n",
       "      <td>2.0</td>\n",
       "      <td>0.0</td>\n",
       "      <td>3.0</td>\n",
       "      <td>3.0</td>\n",
       "      <td>2.0</td>\n",
       "      <td>0.0</td>\n",
       "      <td>8.0</td>\n",
       "      <td>...</td>\n",
       "      <td>7.0</td>\n",
       "      <td>3.0</td>\n",
       "      <td>21.0</td>\n",
       "      <td>4.0</td>\n",
       "      <td>44.0</td>\n",
       "      <td>6.0</td>\n",
       "      <td>30.0</td>\n",
       "      <td>4.0</td>\n",
       "      <td>3.0</td>\n",
       "      <td>3.0</td>\n",
       "    </tr>\n",
       "    <tr>\n",
       "      <th>177</th>\n",
       "      <td>Zambia</td>\n",
       "      <td>0.0</td>\n",
       "      <td>1.0</td>\n",
       "      <td>0.0</td>\n",
       "      <td>2.0</td>\n",
       "      <td>6.0</td>\n",
       "      <td>0.0</td>\n",
       "      <td>0.0</td>\n",
       "      <td>0.0</td>\n",
       "      <td>0.0</td>\n",
       "      <td>...</td>\n",
       "      <td>2.0</td>\n",
       "      <td>4.0</td>\n",
       "      <td>3.0</td>\n",
       "      <td>2.0</td>\n",
       "      <td>14.0</td>\n",
       "      <td>5.0</td>\n",
       "      <td>1.0</td>\n",
       "      <td>2.0</td>\n",
       "      <td>3.0</td>\n",
       "      <td>23.0</td>\n",
       "    </tr>\n",
       "    <tr>\n",
       "      <th>178</th>\n",
       "      <td>Zimbabwe</td>\n",
       "      <td>1.0</td>\n",
       "      <td>0.0</td>\n",
       "      <td>3.0</td>\n",
       "      <td>1.0</td>\n",
       "      <td>1.0</td>\n",
       "      <td>0.0</td>\n",
       "      <td>1.0</td>\n",
       "      <td>0.0</td>\n",
       "      <td>0.0</td>\n",
       "      <td>...</td>\n",
       "      <td>0.0</td>\n",
       "      <td>2.0</td>\n",
       "      <td>2.0</td>\n",
       "      <td>3.0</td>\n",
       "      <td>6.0</td>\n",
       "      <td>9.0</td>\n",
       "      <td>1.0</td>\n",
       "      <td>1.0</td>\n",
       "      <td>1.0</td>\n",
       "      <td>2.0</td>\n",
       "    </tr>\n",
       "  </tbody>\n",
       "</table>\n",
       "<p>179 rows × 42 columns</p>\n",
       "</div>"
      ],
      "text/plain": [
       "t               country  -20.0  -19.0  -18.0  -17.0  -16.0  -15.0  -14.0  \\\n",
       "0           Afghanistan    4.0    1.0    0.0    0.0    3.0    3.0    0.0   \n",
       "1               Albania    1.0    1.0    3.0    1.0    1.0    0.0    1.0   \n",
       "2               Algeria    1.0    1.0    1.0    0.0    0.0    3.0    2.0   \n",
       "3               Andorra    0.0    0.0    0.0    0.0    0.0    1.0    0.0   \n",
       "4                Angola    3.0    0.0    2.0    4.0    1.0    1.0    6.0   \n",
       "..                  ...    ...    ...    ...    ...    ...    ...    ...   \n",
       "174             Vietnam    0.0    0.0    2.0    1.0    1.0    0.0    2.0   \n",
       "175  West Bank and Gaza    4.0    3.0    6.0    3.0    3.0    5.0    0.0   \n",
       "176               Yemen    1.0    1.0    2.0    0.0    3.0    3.0    2.0   \n",
       "177              Zambia    0.0    1.0    0.0    2.0    6.0    0.0    0.0   \n",
       "178            Zimbabwe    1.0    0.0    3.0    1.0    1.0    0.0    1.0   \n",
       "\n",
       "t    -13.0  -12.0  ...  11.0  12.0  13.0  14.0  15.0  16.0  17.0  18.0  19.0  \\\n",
       "0      4.0    0.0  ...   1.0   4.0   4.0  10.0   6.0  12.0  10.0   7.0   1.0   \n",
       "1      2.0    2.0  ...   4.0   1.0   1.0   4.0   3.0   3.0   5.0   6.0   4.0   \n",
       "2      2.0    4.0  ...  20.0  13.0  10.0  12.0  16.0   3.0   8.0   9.0   8.0   \n",
       "3      1.0    0.0  ...   1.0   0.0   0.0   0.0   0.0   0.0   0.0   0.0   0.0   \n",
       "4      1.0    3.0  ...   0.0   2.0   4.0   2.0   1.0   2.0   1.0   1.0   0.0   \n",
       "..     ...    ...  ...   ...   ...   ...   ...   ...   ...   ...   ...   ...   \n",
       "174    0.0    0.0  ...   2.0   7.0   6.0   7.0   6.0  69.0  18.0   0.0  29.0   \n",
       "175    7.0    2.0  ...   1.0   3.0   4.0   1.0   1.0   0.0   2.0   2.0   3.0   \n",
       "176    0.0    8.0  ...   7.0   3.0  21.0   4.0  44.0   6.0  30.0   4.0   3.0   \n",
       "177    0.0    0.0  ...   2.0   4.0   3.0   2.0  14.0   5.0   1.0   2.0   3.0   \n",
       "178    0.0    0.0  ...   0.0   2.0   2.0   3.0   6.0   9.0   1.0   1.0   1.0   \n",
       "\n",
       "t    20.0  \n",
       "0     1.0  \n",
       "1     6.0  \n",
       "2    10.0  \n",
       "3     0.0  \n",
       "4     1.0  \n",
       "..    ...  \n",
       "174  80.0  \n",
       "175   0.0  \n",
       "176   3.0  \n",
       "177  23.0  \n",
       "178   2.0  \n",
       "\n",
       "[179 rows x 42 columns]"
      ]
     },
     "execution_count": 89,
     "metadata": {},
     "output_type": "execute_result"
    }
   ],
   "source": [
    "covid_df"
   ]
  },
  {
   "cell_type": "code",
   "execution_count": 90,
   "id": "b9267390",
   "metadata": {},
   "outputs": [
    {
     "data": {
      "text/html": [
       "<div>\n",
       "<style scoped>\n",
       "    .dataframe tbody tr th:only-of-type {\n",
       "        vertical-align: middle;\n",
       "    }\n",
       "\n",
       "    .dataframe tbody tr th {\n",
       "        vertical-align: top;\n",
       "    }\n",
       "\n",
       "    .dataframe thead th {\n",
       "        text-align: right;\n",
       "    }\n",
       "</style>\n",
       "<table border=\"1\" class=\"dataframe\">\n",
       "  <thead>\n",
       "    <tr style=\"text-align: right;\">\n",
       "      <th>t</th>\n",
       "      <th>country</th>\n",
       "      <th>-20.0</th>\n",
       "      <th>-19.0</th>\n",
       "      <th>-18.0</th>\n",
       "      <th>-17.0</th>\n",
       "      <th>-16.0</th>\n",
       "      <th>-15.0</th>\n",
       "      <th>-14.0</th>\n",
       "      <th>-13.0</th>\n",
       "      <th>-12.0</th>\n",
       "      <th>...</th>\n",
       "      <th>11.0</th>\n",
       "      <th>12.0</th>\n",
       "      <th>13.0</th>\n",
       "      <th>14.0</th>\n",
       "      <th>15.0</th>\n",
       "      <th>16.0</th>\n",
       "      <th>17.0</th>\n",
       "      <th>18.0</th>\n",
       "      <th>19.0</th>\n",
       "      <th>20.0</th>\n",
       "    </tr>\n",
       "  </thead>\n",
       "  <tbody>\n",
       "    <tr>\n",
       "      <th>0</th>\n",
       "      <td>Afghanistan</td>\n",
       "      <td>4.0</td>\n",
       "      <td>1.0</td>\n",
       "      <td>0.0</td>\n",
       "      <td>0.0</td>\n",
       "      <td>3.0</td>\n",
       "      <td>3.0</td>\n",
       "      <td>0.0</td>\n",
       "      <td>4.0</td>\n",
       "      <td>0.0</td>\n",
       "      <td>...</td>\n",
       "      <td>1.0</td>\n",
       "      <td>4.0</td>\n",
       "      <td>4.0</td>\n",
       "      <td>10.0</td>\n",
       "      <td>6.0</td>\n",
       "      <td>12.0</td>\n",
       "      <td>10.0</td>\n",
       "      <td>7.0</td>\n",
       "      <td>1.0</td>\n",
       "      <td>1.0</td>\n",
       "    </tr>\n",
       "    <tr>\n",
       "      <th>6</th>\n",
       "      <td>Argentina</td>\n",
       "      <td>1.0</td>\n",
       "      <td>0.0</td>\n",
       "      <td>0.0</td>\n",
       "      <td>2.0</td>\n",
       "      <td>2.0</td>\n",
       "      <td>1.0</td>\n",
       "      <td>4.0</td>\n",
       "      <td>5.0</td>\n",
       "      <td>1.0</td>\n",
       "      <td>...</td>\n",
       "      <td>11.0</td>\n",
       "      <td>5.0</td>\n",
       "      <td>13.0</td>\n",
       "      <td>11.0</td>\n",
       "      <td>9.0</td>\n",
       "      <td>7.0</td>\n",
       "      <td>5.0</td>\n",
       "      <td>10.0</td>\n",
       "      <td>7.0</td>\n",
       "      <td>4.0</td>\n",
       "    </tr>\n",
       "    <tr>\n",
       "      <th>8</th>\n",
       "      <td>Australia</td>\n",
       "      <td>5.0</td>\n",
       "      <td>5.0</td>\n",
       "      <td>5.0</td>\n",
       "      <td>5.0</td>\n",
       "      <td>1.0</td>\n",
       "      <td>3.0</td>\n",
       "      <td>3.0</td>\n",
       "      <td>3.0</td>\n",
       "      <td>1.0</td>\n",
       "      <td>...</td>\n",
       "      <td>0.0</td>\n",
       "      <td>0.0</td>\n",
       "      <td>0.0</td>\n",
       "      <td>0.0</td>\n",
       "      <td>0.0</td>\n",
       "      <td>0.0</td>\n",
       "      <td>1.0</td>\n",
       "      <td>0.0</td>\n",
       "      <td>0.0</td>\n",
       "      <td>0.0</td>\n",
       "    </tr>\n",
       "    <tr>\n",
       "      <th>9</th>\n",
       "      <td>Austria</td>\n",
       "      <td>0.0</td>\n",
       "      <td>0.0</td>\n",
       "      <td>0.0</td>\n",
       "      <td>0.0</td>\n",
       "      <td>0.0</td>\n",
       "      <td>0.0</td>\n",
       "      <td>1.0</td>\n",
       "      <td>0.0</td>\n",
       "      <td>1.0</td>\n",
       "      <td>...</td>\n",
       "      <td>31.0</td>\n",
       "      <td>29.0</td>\n",
       "      <td>17.0</td>\n",
       "      <td>22.0</td>\n",
       "      <td>23.0</td>\n",
       "      <td>17.0</td>\n",
       "      <td>12.0</td>\n",
       "      <td>21.0</td>\n",
       "      <td>13.0</td>\n",
       "      <td>16.0</td>\n",
       "    </tr>\n",
       "    <tr>\n",
       "      <th>13</th>\n",
       "      <td>Bangladesh</td>\n",
       "      <td>0.0</td>\n",
       "      <td>0.0</td>\n",
       "      <td>0.0</td>\n",
       "      <td>1.0</td>\n",
       "      <td>0.0</td>\n",
       "      <td>0.0</td>\n",
       "      <td>2.0</td>\n",
       "      <td>1.0</td>\n",
       "      <td>3.0</td>\n",
       "      <td>...</td>\n",
       "      <td>8.0</td>\n",
       "      <td>5.0</td>\n",
       "      <td>2.0</td>\n",
       "      <td>5.0</td>\n",
       "      <td>2.0</td>\n",
       "      <td>5.0</td>\n",
       "      <td>1.0</td>\n",
       "      <td>3.0</td>\n",
       "      <td>13.0</td>\n",
       "      <td>7.0</td>\n",
       "    </tr>\n",
       "  </tbody>\n",
       "</table>\n",
       "<p>5 rows × 42 columns</p>\n",
       "</div>"
      ],
      "text/plain": [
       "t       country  -20.0  -19.0  -18.0  -17.0  -16.0  -15.0  -14.0  -13.0  \\\n",
       "0   Afghanistan    4.0    1.0    0.0    0.0    3.0    3.0    0.0    4.0   \n",
       "6     Argentina    1.0    0.0    0.0    2.0    2.0    1.0    4.0    5.0   \n",
       "8     Australia    5.0    5.0    5.0    5.0    1.0    3.0    3.0    3.0   \n",
       "9       Austria    0.0    0.0    0.0    0.0    0.0    0.0    1.0    0.0   \n",
       "13   Bangladesh    0.0    0.0    0.0    1.0    0.0    0.0    2.0    1.0   \n",
       "\n",
       "t   -12.0  ...  11.0  12.0  13.0  14.0  15.0  16.0  17.0  18.0  19.0  20.0  \n",
       "0     0.0  ...   1.0   4.0   4.0  10.0   6.0  12.0  10.0   7.0   1.0   1.0  \n",
       "6     1.0  ...  11.0   5.0  13.0  11.0   9.0   7.0   5.0  10.0   7.0   4.0  \n",
       "8     1.0  ...   0.0   0.0   0.0   0.0   0.0   0.0   1.0   0.0   0.0   0.0  \n",
       "9     1.0  ...  31.0  29.0  17.0  22.0  23.0  17.0  12.0  21.0  13.0  16.0  \n",
       "13    3.0  ...   8.0   5.0   2.0   5.0   2.0   5.0   1.0   3.0  13.0   7.0  \n",
       "\n",
       "[5 rows x 42 columns]"
      ]
     },
     "execution_count": 90,
     "metadata": {},
     "output_type": "execute_result"
    }
   ],
   "source": [
    "severe_countries_ts = covid_df[covid_df['country'].isin(severe_countries)]\n",
    "severe_countries_ts.head()"
   ]
  },
  {
   "cell_type": "markdown",
   "id": "dbbd5227",
   "metadata": {},
   "source": [
    "## **Denoise the data**"
   ]
  },
  {
   "cell_type": "markdown",
   "id": "731b7ab6",
   "metadata": {},
   "source": [
    "Selecting $\\tilde{r}$ for Synthetic Interventions\n",
    "\n",
    "Here we need to check if the data in the pre-intervention period (where we assume all countries' time series obey a similar latent structure) is low rank, then see how many singular values are required to explain most of the variation in the data."
   ]
  },
  {
   "cell_type": "code",
   "execution_count": 91,
   "id": "0924f148",
   "metadata": {},
   "outputs": [
    {
     "data": {
      "image/png": "[encoded data removed]",
      "text/plain": [
       "<Figure size 1000x600 with 1 Axes>"
      ]
     },
     "metadata": {},
     "output_type": "display_data"
    }
   ],
   "source": [
    "u, s, vh = np.linalg.svd(covid_df.dropna().loc[:, -20:-1].to_numpy())\n",
    "plt.figure(figsize=(10, 6))\n",
    "plt.plot(np.power(s, 2))\n",
    "#plt.semilogy()\n",
    "plt.xlabel(\"$r$\")\n",
    "plt.ylabel(\"$r$-th Singular value\")\n",
    "plt.xticks(np.arange(0, 20, 2))\n",
    "plt.show()"
   ]
  },
  {
   "cell_type": "markdown",
   "id": "ec017ec9",
   "metadata": {},
   "source": [
    "By analyzing the plot above, we can see that the data appears to have a low rank structure, which justifies the use of the Synthetic Interventions method.\n",
    "\n",
    "Furthermore, there seems to be an elbow point around 3 or 4 -- either is justifiable in this case because the plot isn't completely clear between the two options.\n",
    "\n",
    "Then, we stick to $\\tilde{r}$ = 4 "
   ]
  },
  {
   "cell_type": "code",
   "execution_count": 92,
   "id": "2a2d7fd6",
   "metadata": {},
   "outputs": [],
   "source": [
    "Y_pre = severe_countries_ts.loc[:, -20:-1].to_numpy() ## isolating the pre-intervention period\n",
    "\n",
    "# Applying SVD to denoise the data\n",
    "u, s, vh = np.linalg.svd(Y_pre)\n",
    "\n",
    "r_tilde=4\n",
    "smat = np.zeros((u.shape[0], vh.shape[0])) \n",
    "smat[:r_tilde, :r_tilde] = np.diag(s[:r_tilde]) ## creating truncated singular values matrix keeping only the values that preserve 90% of energy\n",
    "\n",
    "Y_pre_tilde = u @ smat @ vh ## reconstructing the denoised matrix"
   ]
  },
  {
   "cell_type": "markdown",
   "id": "e055f3b4",
   "metadata": {},
   "source": [
    "## **Learn the pre-intervention model**"
   ]
  },
  {
   "cell_type": "code",
   "execution_count": 93,
   "id": "78c61118",
   "metadata": {},
   "outputs": [],
   "source": [
    "import statsmodels.api as sm\n",
    "\n",
    "# The dependent variable here is the pre-intervention time series observations from Brazil\n",
    "brazil_pre = covid_df[covid_df['country'] == \"Brazil\"].loc[:, -20: -1].to_numpy().flatten()\n",
    "dvs = brazil_pre\n",
    "# We build the model with independent variables from the pre-intervention entries of the denoised matrix\n",
    "ivs = Y_pre_tilde.T\n",
    "model = sm.OLS(dvs, ivs)\n",
    "reg = model.fit()"
   ]
  },
  {
   "cell_type": "markdown",
   "id": "ca30bd6d",
   "metadata": {},
   "source": [
    "## **Estimate the post-intervention counterfactual**"
   ]
  },
  {
   "cell_type": "code",
   "execution_count": 94,
   "id": "95435f68",
   "metadata": {},
   "outputs": [],
   "source": [
    "Y_post = severe_countries_ts.loc[:, 0:20].to_numpy() ## isolating the post-intervention period\n",
    "severe_counterfactual_estimates = reg.predict(Y_post.T) ## estimating the severecounterfactual\n",
    "\n",
    "# get true values for comparison\n",
    "brazil_post = covid_df[covid_df['country'] == \"Brazil\"].loc[:, 0: 20].to_numpy().flatten()\n"
   ]
  },
  {
   "cell_type": "markdown",
   "id": "3bce4680",
   "metadata": {},
   "source": [
    "## **Plotting the results**"
   ]
  },
  {
   "cell_type": "code",
   "execution_count": 95,
   "id": "c2434ebe",
   "metadata": {},
   "outputs": [
    {
     "data": {
      "image/png": "[encoded data removed]",
      "text/plain": [
       "<Figure size 1400x600 with 1 Axes>"
      ]
     },
     "metadata": {},
     "output_type": "display_data"
    }
   ],
   "source": [
    "plt.figure(figsize=(14, 6))\n",
    "\n",
    "plt.plot(range(-20, 0), brazil_pre, \n",
    "         label=\"True Pre-Intervention Data\", color='grey', linestyle='-', linewidth=2)\n",
    "\n",
    "plt.plot(range(0, 21), brazil_post, \n",
    "         label=\"True Post-Intervention Data (Moderate Restriction)\", color='red', linestyle='-', linewidth=2)\n",
    "\n",
    "plt.plot(range(0, 21), severe_counterfactual_estimates, \n",
    "         label=\"Post-Intervention Counterfactual Estimate (Severe Restriction)\", color='green', linestyle='-', linewidth=2)\n",
    "\n",
    "plt.axvline(x=0, color='blue', linestyle=':', linewidth=2, label='Start of Intervention')\n",
    "\n",
    "plt.xlabel('Days')\n",
    "plt.ylabel('Number of Deaths')\n",
    "plt.title('Counterfactual Estimate of COVID-19 Deaths in Brazil')\n",
    "plt.legend()\n",
    "plt.show()"
   ]
  },
  {
   "cell_type": "markdown",
   "id": "ac015b30",
   "metadata": {},
   "source": [
    "## **Conclusions**"
   ]
  },
  {
   "cell_type": "markdown",
   "id": "e2ead3a7",
   "metadata": {},
   "source": [
    "By comparing moderate and severe time series, we find that severe counterfactual has significantly fewer deaths than the true post-intervention data for Brazil (moderate mobility restriction).\n",
    "\n",
    "This observation suggests that adopting severe interventions in mobility could have drastically reduced the number of COVID-19-related deaths in countries that were more flexible, such as Brazil."
   ]
  }
 ],
 "metadata": {
  "kernelspec": {
   "display_name": "brain",
   "language": "python",
   "name": "python3"
  },
  "language_info": {
   "codemirror_mode": {
    "name": "ipython",
    "version": 3
   },
   "file_extension": ".py",
   "mimetype": "text/x-python",
   "name": "python",
   "nbconvert_exporter": "python",
   "pygments_lexer": "ipython3",
   "version": "3.10.16"
  },
  "latex_envs": {
   "LaTeX_envs_menu_present": true,
   "autoclose": false,
   "autocomplete": true,
   "bibliofile": "biblio.bib",
   "cite_by": "apalike",
   "current_citInitial": 1,
   "eqLabelWithNumbers": true,
   "eqNumInitial": 1,
   "hotkeys": {
    "equation": "Ctrl-E",
    "itemize": "Ctrl-I"
   },
   "labels_anchors": false,
   "latex_user_defs": false,
   "report_style_numbering": false,
   "user_envs_cfg": false
  },
  "toc": {
   "base_numbering": 1,
   "nav_menu": {},
   "number_sections": true,
   "sideBar": true,
   "skip_h1_title": false,
   "title_cell": "Table of Contents",
   "title_sidebar": "Contents",
   "toc_cell": false,
   "toc_position": {},
   "toc_section_display": true,
   "toc_window_display": false
  }
 },
 "nbformat": 4,
 "nbformat_minor": 5
}
